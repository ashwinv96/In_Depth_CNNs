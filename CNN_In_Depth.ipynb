{
  "nbformat": 4,
  "nbformat_minor": 0,
  "metadata": {
    "colab": {
      "name": "CNN_In_Depth.ipynb",
      "provenance": []
    },
    "kernelspec": {
      "name": "python3",
      "display_name": "Python 3"
    },
    "accelerator": "GPU"
  },
  "cells": [
    {
      "cell_type": "markdown",
      "metadata": {
        "id": "oSXRTK0tefsH"
      },
      "source": [
        "##In-Depth Look into Convolutional Neural Networks\n",
        "\n"
      ]
    },
    {
      "cell_type": "code",
      "metadata": {
        "id": "8kMnB_6LRmGk"
      },
      "source": [
        "# imports\n",
        "import tensorflow as tf\n",
        "import numpy as np\n",
        "import matplotlib.pyplot as plt\n",
        "from keras.models import Sequential\n",
        "from keras.layers import Dense, Activation, LocallyConnected1D, InputLayer, Flatten, LocallyConnected2D, Conv2D, Dropout\n",
        "from keras.optimizers import SGD\n",
        "from keras import utils as np_utils"
      ],
      "execution_count": null,
      "outputs": []
    },
    {
      "cell_type": "code",
      "metadata": {
        "id": "YTdcnk0pSPpd"
      },
      "source": [
        "img_h = img_w = 16             \n",
        "img_size_flat = img_h * img_w  # 16x16=256, the total number of pixels per image\n",
        "n_classes = 10                 # total classes"
      ],
      "execution_count": null,
      "outputs": []
    },
    {
      "cell_type": "code",
      "metadata": {
        "id": "fwWiVKhPSSwi"
      },
      "source": [
        "train_set = np.genfromtxt(\"./mnist_train.txt\")\n",
        "test_set = np.genfromtxt(\"./mnist_test.txt\")"
      ],
      "execution_count": null,
      "outputs": []
    },
    {
      "cell_type": "code",
      "metadata": {
        "colab": {
          "base_uri": "https://localhost:8080/"
        },
        "id": "fCibNUE5W10K",
        "outputId": "9e950954-abfa-400c-8cd4-b6a611f14ca1"
      },
      "source": [
        "print(\"training dataset shape: \", train_set.shape)\n",
        "print(\"test dataset shape: \", test_set.shape)"
      ],
      "execution_count": null,
      "outputs": [
        {
          "output_type": "stream",
          "text": [
            "training dataset shape:  (7291, 257)\n",
            "test dataset shape:  (2007, 257)\n"
          ],
          "name": "stdout"
        }
      ]
    },
    {
      "cell_type": "code",
      "metadata": {
        "id": "nFAAuuKVXbzX",
        "colab": {
          "base_uri": "https://localhost:8080/"
        },
        "outputId": "5f5fa82c-9d00-4071-f277-b2acfcf03bd8"
      },
      "source": [
        "# extract labels and data \n",
        "train_labels = train_set[:,0]\n",
        "test_labels = test_set[:,0]\n",
        "print(\"training labels shape: \", train_labels.shape)\n",
        "print(\"testing labels shape: \", test_labels.shape)\n",
        "\n",
        "train_data = train_set[:,1:]\n",
        "test_data = test_set[:,1:]\n",
        "print(\"training data shape: \", train_data.shape)\n",
        "print(\"testing data shape: \", test_data.shape)"
      ],
      "execution_count": null,
      "outputs": [
        {
          "output_type": "stream",
          "text": [
            "training labels shape:  (7291,)\n",
            "testing labels shape:  (2007,)\n",
            "training data shape:  (7291, 256)\n",
            "testing data shape:  (2007, 256)\n"
          ],
          "name": "stdout"
        }
      ]
    },
    {
      "cell_type": "code",
      "metadata": {
        "colab": {
          "base_uri": "https://localhost:8080/"
        },
        "id": "fqc7Sstti-jE",
        "outputId": "f7d74b8a-1a3f-4c1e-e0b8-45061037175f"
      },
      "source": [
        "# reshape train and test datasets\n",
        "train_data = train_data.reshape((train_data.shape[0], img_h, img_w, 1))\n",
        "test_data = test_data.reshape((test_data.shape[0], img_h, img_w, 1))\n",
        "print(\"reshaped training data: \", train_data.shape)\n",
        "print(\"reshaped testing data: \", test_data.shape)\n",
        "\n",
        "# use one hot encoding for outputs\n",
        "train_labels = np_utils.to_categorical(train_labels)\n",
        "test_labels = np_utils.to_categorical(test_labels)\n",
        "print(\"one hot encoded training labels shape: \", train_labels.shape)\n",
        "print(\"one hot encoded testing labels shape: \", test_labels.shape)"
      ],
      "execution_count": null,
      "outputs": [
        {
          "output_type": "stream",
          "text": [
            "reshaped training data:  (7291, 16, 16, 1)\n",
            "reshaped testing data:  (2007, 16, 16, 1)\n",
            "one hot encoded training labels shape:  (7291, 10)\n",
            "one hot encoded testing labels shape:  (2007, 10)\n"
          ],
          "name": "stdout"
        }
      ]
    },
    {
      "cell_type": "markdown",
      "metadata": {
        "id": "g_BOQQ5FeN8q"
      },
      "source": [
        "###Task 1: Neural Network Design"
      ]
    },
    {
      "cell_type": "code",
      "metadata": {
        "id": "DanpnwVnYCE8"
      },
      "source": [
        "def define_fully_connected_model(lr_val, momentum_val, img_h, img_w, initializer):\n",
        "  model = Sequential()\n",
        "  model.add(InputLayer(input_shape=(img_h, img_w, 1)))\n",
        "  model.add(Flatten())\n",
        "  model.add(Dense(24, activation='relu', kernel_initializer=initializer))\n",
        "  model.add(Dense(128, activation='relu', kernel_initializer=initializer))\n",
        "  model.add(Dense(256, activation='tanh', kernel_initializer=initializer))\n",
        "  model.add(Dense(10, activation='softmax'))\n",
        "  # compile model\n",
        "  opt = SGD(lr=lr_val, momentum=momentum_val)\n",
        "  model.compile(optimizer=opt, loss='categorical_crossentropy', metrics=['accuracy'])\n",
        "  return model"
      ],
      "execution_count": null,
      "outputs": []
    },
    {
      "cell_type": "markdown",
      "metadata": {
        "id": "lrQUCQouI4N1"
      },
      "source": [
        "The above model is a fully connected model with 3 hidden layers. The learning rate, momentum, image dimensions and initalizer choise are passed in as hyperparameters. The hidden layers use the relu, relu and tanh activation functions respectively. The output of the network has ten units, one for each target class. The target labels are passed as one hot encoded vectors. "
      ]
    },
    {
      "cell_type": "code",
      "metadata": {
        "id": "gBz1EaIcYEE7"
      },
      "source": [
        "def locally_connected_model(lr_val, momentum_val, img_h, img_w, initializer):\n",
        "  model = Sequential()\n",
        "  model.add(InputLayer(input_shape=(img_h, img_w, 1)))\n",
        "  model.add(LocallyConnected2D(64, (3,3), activation=\"relu\", kernel_initializer=initializer)) \n",
        "  model.add(LocallyConnected2D(32, (3,3), activation=\"relu\", kernel_initializer=initializer))\n",
        "  model.add(LocallyConnected2D(32, (3,3), activation=\"tanh\", kernel_initializer=initializer))\n",
        "  model.add(Flatten())\n",
        "  model.add(Dense(64, activation='relu', kernel_initializer=initializer))\n",
        "  model.add(Dense(10, activation='softmax'))\n",
        "  # compile model\n",
        "  opt = SGD(lr=lr_val, momentum=momentum_val)\n",
        "  model.compile(optimizer=opt, loss='categorical_crossentropy', metrics=['accuracy'])\n",
        "  return model"
      ],
      "execution_count": null,
      "outputs": []
    },
    {
      "cell_type": "markdown",
      "metadata": {
        "id": "g274G2g7JkYl"
      },
      "source": [
        "The above model is a locally connected model with 3 hidden locally connected layers. There is one hidden dense layer with 64 units. The learning rate, momentum, image dimensions and initalizer choise are passed in as hyperparameters. The hidden layers use the relu, relu, tanh and relu activation functions respectively. In this locally connected architecture, the filters used during convolution are only passed over a local portion of the image the weights are not shared with the entire model but only the direct local neighbors. The output of the network has ten units, one for each target class. The target labels are passed as one hot encoded vectors. "
      ]
    },
    {
      "cell_type": "code",
      "metadata": {
        "id": "DoKb2nNgbM0o"
      },
      "source": [
        "def conv_model(lr_val, momentum_val, img_h, img_w, initializer):\n",
        "  model = Sequential()\n",
        "  model.add(InputLayer(input_shape=(img_h, img_w, 1)))\n",
        "  model.add(Conv2D(64, (3, 3), activation='relu', kernel_initializer=initializer))\n",
        "  model.add(Conv2D(32, (3, 3), activation='relu', kernel_initializer=initializer))\n",
        "  model.add(Conv2D(32, (3, 3), activation='relu', kernel_initializer=initializer))\n",
        "  model.add(Flatten())\n",
        "  model.add(Dense(64, activation='relu', kernel_initializer=initializer))\n",
        "  model.add(Dense(10, activation='softmax'))\n",
        "  # compile model\n",
        "  opt = SGD(lr=lr_val, momentum=momentum_val)\n",
        "  model.compile(optimizer=opt, loss='categorical_crossentropy', metrics=['accuracy'])\n",
        "  return model"
      ],
      "execution_count": null,
      "outputs": []
    },
    {
      "cell_type": "markdown",
      "metadata": {
        "id": "GmTzQ5cNKLDU"
      },
      "source": [
        "The above model is a convolutional network with 2D 3x3 kernels that will be convolved across the whole image. This network has 3 convolutional layers and 1 hidden dense layer. The output layer has 10 units, one for each target class."
      ]
    },
    {
      "cell_type": "markdown",
      "metadata": {
        "id": "bGGvvVsFeUBP"
      },
      "source": [
        "###Task 2: Techniques for Optimization"
      ]
    },
    {
      "cell_type": "markdown",
      "metadata": {
        "id": "ob-GYUDdrf94"
      },
      "source": [
        "#### Experiment 1: Parameter Initialization"
      ]
    },
    {
      "cell_type": "code",
      "metadata": {
        "id": "xrXaQMTjeH2g"
      },
      "source": [
        "# Experiment 1 fixed hyper-params\n",
        "epochs = 15\n",
        "batch_size = 64\n",
        "lr = 0.01\n",
        "momentum = 0.9"
      ],
      "execution_count": null,
      "outputs": []
    },
    {
      "cell_type": "markdown",
      "metadata": {
        "id": "pOLxecEtsGl5"
      },
      "source": [
        "###### Model 1: Fully Connected Model"
      ]
    },
    {
      "cell_type": "markdown",
      "metadata": {
        "id": "6OO8DkA_Om_L"
      },
      "source": [
        "The three initializers used to set the model weights are 'Zeros', 'HeUniform' and 'TruncatedNormal'. The comparison of training loss(*loss*), training accuracy (*accuracy*), validation loss(*val_loss*) and validation accuracy(*val_accuracy*) for each experiment with varying initializers can be seen in the training process below. The ranking of initializers best to worst (when analyzing training loss and accuracy) is: 1) HeUniform 2)TruncatedNormal 3)Zeros."
      ]
    },
    {
      "cell_type": "code",
      "metadata": {
        "colab": {
          "base_uri": "https://localhost:8080/"
        },
        "id": "kbB6cDoSg1kC",
        "outputId": "02f0f96a-4b3f-4d6c-d777-ef19845ec61e"
      },
      "source": [
        "# define initializer --> slow loss convergence and poor accuracy\n",
        "initializer = 'Zeros'\n",
        "fc_model = define_fully_connected_model(lr, momentum, img_h, img_w, initializer)\n",
        "fc_model.fit(train_data, train_labels, batch_size=batch_size, epochs=epochs, validation_data=(test_data, test_labels))\n"
      ],
      "execution_count": null,
      "outputs": [
        {
          "output_type": "stream",
          "text": [
            "Epoch 1/15\n",
            "114/114 [==============================] - 1s 5ms/step - loss: 2.2855 - accuracy: 0.1548 - val_loss: 2.2670 - val_accuracy: 0.1789\n",
            "Epoch 2/15\n",
            "114/114 [==============================] - 0s 3ms/step - loss: 2.2719 - accuracy: 0.1613 - val_loss: 2.2657 - val_accuracy: 0.1789\n",
            "Epoch 3/15\n",
            "114/114 [==============================] - 0s 3ms/step - loss: 2.2721 - accuracy: 0.1585 - val_loss: 2.2647 - val_accuracy: 0.1789\n",
            "Epoch 4/15\n",
            "114/114 [==============================] - 0s 3ms/step - loss: 2.2762 - accuracy: 0.1628 - val_loss: 2.2672 - val_accuracy: 0.1789\n",
            "Epoch 5/15\n",
            "114/114 [==============================] - 0s 3ms/step - loss: 2.2692 - accuracy: 0.1636 - val_loss: 2.2656 - val_accuracy: 0.1789\n",
            "Epoch 6/15\n",
            "114/114 [==============================] - 0s 3ms/step - loss: 2.2716 - accuracy: 0.1650 - val_loss: 2.2665 - val_accuracy: 0.1789\n",
            "Epoch 7/15\n",
            "114/114 [==============================] - 0s 3ms/step - loss: 2.2794 - accuracy: 0.1586 - val_loss: 2.2674 - val_accuracy: 0.1789\n",
            "Epoch 8/15\n",
            "114/114 [==============================] - 0s 3ms/step - loss: 2.2698 - accuracy: 0.1635 - val_loss: 2.2653 - val_accuracy: 0.1789\n",
            "Epoch 9/15\n",
            "114/114 [==============================] - 0s 3ms/step - loss: 2.2646 - accuracy: 0.1710 - val_loss: 2.2666 - val_accuracy: 0.1789\n",
            "Epoch 10/15\n",
            "114/114 [==============================] - 0s 3ms/step - loss: 2.2752 - accuracy: 0.1608 - val_loss: 2.2662 - val_accuracy: 0.1789\n",
            "Epoch 11/15\n",
            "114/114 [==============================] - 0s 3ms/step - loss: 2.2695 - accuracy: 0.1667 - val_loss: 2.2659 - val_accuracy: 0.1789\n",
            "Epoch 12/15\n",
            "114/114 [==============================] - 0s 3ms/step - loss: 2.2751 - accuracy: 0.1602 - val_loss: 2.2668 - val_accuracy: 0.1789\n",
            "Epoch 13/15\n",
            "114/114 [==============================] - 0s 3ms/step - loss: 2.2710 - accuracy: 0.1613 - val_loss: 2.2655 - val_accuracy: 0.1789\n",
            "Epoch 14/15\n",
            "114/114 [==============================] - 0s 3ms/step - loss: 2.2714 - accuracy: 0.1626 - val_loss: 2.2650 - val_accuracy: 0.1789\n",
            "Epoch 15/15\n",
            "114/114 [==============================] - 0s 2ms/step - loss: 2.2705 - accuracy: 0.1651 - val_loss: 2.2658 - val_accuracy: 0.1789\n"
          ],
          "name": "stdout"
        },
        {
          "output_type": "execute_result",
          "data": {
            "text/plain": [
              "<tensorflow.python.keras.callbacks.History at 0x7f2e6a6c7c10>"
            ]
          },
          "metadata": {
            "tags": []
          },
          "execution_count": 11
        }
      ]
    },
    {
      "cell_type": "code",
      "metadata": {
        "colab": {
          "base_uri": "https://localhost:8080/"
        },
        "id": "3IEJ4mjIrSJh",
        "outputId": "55ccf6db-61d8-4f29-bc4c-a852685b7b15"
      },
      "source": [
        "# define initializer --> fast loss convergence and good accuracy\n",
        "initializer = 'HeUniform'\n",
        "fc_model = define_fully_connected_model(lr, momentum, img_h, img_w, initializer)\n",
        "fc_model.fit(train_data, train_labels, batch_size=batch_size, epochs=epochs, validation_data=(test_data, test_labels))"
      ],
      "execution_count": null,
      "outputs": [
        {
          "output_type": "stream",
          "text": [
            "Epoch 1/15\n",
            "114/114 [==============================] - 1s 4ms/step - loss: 1.1294 - accuracy: 0.6288 - val_loss: 0.4106 - val_accuracy: 0.8809\n",
            "Epoch 2/15\n",
            "114/114 [==============================] - 0s 3ms/step - loss: 0.2099 - accuracy: 0.9406 - val_loss: 0.3448 - val_accuracy: 0.9058\n",
            "Epoch 3/15\n",
            "114/114 [==============================] - 0s 3ms/step - loss: 0.1418 - accuracy: 0.9557 - val_loss: 0.3267 - val_accuracy: 0.9118\n",
            "Epoch 4/15\n",
            "114/114 [==============================] - 0s 3ms/step - loss: 0.1148 - accuracy: 0.9699 - val_loss: 0.3246 - val_accuracy: 0.9123\n",
            "Epoch 5/15\n",
            "114/114 [==============================] - 0s 3ms/step - loss: 0.0903 - accuracy: 0.9711 - val_loss: 0.3154 - val_accuracy: 0.9198\n",
            "Epoch 6/15\n",
            "114/114 [==============================] - 0s 3ms/step - loss: 0.0725 - accuracy: 0.9800 - val_loss: 0.3135 - val_accuracy: 0.9198\n",
            "Epoch 7/15\n",
            "114/114 [==============================] - 0s 3ms/step - loss: 0.0547 - accuracy: 0.9862 - val_loss: 0.3116 - val_accuracy: 0.9248\n",
            "Epoch 8/15\n",
            "114/114 [==============================] - 0s 3ms/step - loss: 0.0475 - accuracy: 0.9884 - val_loss: 0.3036 - val_accuracy: 0.9238\n",
            "Epoch 9/15\n",
            "114/114 [==============================] - 0s 3ms/step - loss: 0.0344 - accuracy: 0.9927 - val_loss: 0.3119 - val_accuracy: 0.9243\n",
            "Epoch 10/15\n",
            "114/114 [==============================] - 0s 3ms/step - loss: 0.0352 - accuracy: 0.9922 - val_loss: 0.3235 - val_accuracy: 0.9233\n",
            "Epoch 11/15\n",
            "114/114 [==============================] - 0s 3ms/step - loss: 0.0323 - accuracy: 0.9927 - val_loss: 0.3177 - val_accuracy: 0.9273\n",
            "Epoch 12/15\n",
            "114/114 [==============================] - 0s 3ms/step - loss: 0.0220 - accuracy: 0.9967 - val_loss: 0.3205 - val_accuracy: 0.9263\n",
            "Epoch 13/15\n",
            "114/114 [==============================] - 0s 3ms/step - loss: 0.0197 - accuracy: 0.9968 - val_loss: 0.3275 - val_accuracy: 0.9268\n",
            "Epoch 14/15\n",
            "114/114 [==============================] - 0s 3ms/step - loss: 0.0159 - accuracy: 0.9979 - val_loss: 0.3321 - val_accuracy: 0.9268\n",
            "Epoch 15/15\n",
            "114/114 [==============================] - 0s 3ms/step - loss: 0.0143 - accuracy: 0.9981 - val_loss: 0.3268 - val_accuracy: 0.9273\n"
          ],
          "name": "stdout"
        },
        {
          "output_type": "execute_result",
          "data": {
            "text/plain": [
              "<tensorflow.python.keras.callbacks.History at 0x7f2e6a798a90>"
            ]
          },
          "metadata": {
            "tags": []
          },
          "execution_count": 12
        }
      ]
    },
    {
      "cell_type": "code",
      "metadata": {
        "colab": {
          "base_uri": "https://localhost:8080/"
        },
        "id": "Y3xBAyPjr6lD",
        "outputId": "4a336c8a-6808-49f9-efb5-0624aac43828"
      },
      "source": [
        "# define initializer --> fast loss convergence and good(but worse than previous case) accuracy\n",
        "initializer = 'TruncatedNormal'\n",
        "fc_model = define_fully_connected_model(lr, momentum, img_h, img_w, initializer)\n",
        "fc_model.fit(train_data, train_labels, batch_size=batch_size, epochs=epochs, validation_data=(test_data, test_labels))"
      ],
      "execution_count": null,
      "outputs": [
        {
          "output_type": "stream",
          "text": [
            "Epoch 1/15\n",
            "114/114 [==============================] - 1s 4ms/step - loss: 1.9825 - accuracy: 0.2999 - val_loss: 0.5571 - val_accuracy: 0.8306\n",
            "Epoch 2/15\n",
            "114/114 [==============================] - 0s 3ms/step - loss: 0.3504 - accuracy: 0.8962 - val_loss: 0.4162 - val_accuracy: 0.8899\n",
            "Epoch 3/15\n",
            "114/114 [==============================] - 0s 3ms/step - loss: 0.2341 - accuracy: 0.9294 - val_loss: 0.3799 - val_accuracy: 0.8979\n",
            "Epoch 4/15\n",
            "114/114 [==============================] - 0s 3ms/step - loss: 0.1829 - accuracy: 0.9464 - val_loss: 0.3487 - val_accuracy: 0.9008\n",
            "Epoch 5/15\n",
            "114/114 [==============================] - 0s 3ms/step - loss: 0.1544 - accuracy: 0.9524 - val_loss: 0.3426 - val_accuracy: 0.9128\n",
            "Epoch 6/15\n",
            "114/114 [==============================] - 0s 3ms/step - loss: 0.1436 - accuracy: 0.9597 - val_loss: 0.3205 - val_accuracy: 0.9133\n",
            "Epoch 7/15\n",
            "114/114 [==============================] - 0s 3ms/step - loss: 0.1084 - accuracy: 0.9651 - val_loss: 0.3209 - val_accuracy: 0.9128\n",
            "Epoch 8/15\n",
            "114/114 [==============================] - 0s 3ms/step - loss: 0.0963 - accuracy: 0.9712 - val_loss: 0.3166 - val_accuracy: 0.9218\n",
            "Epoch 9/15\n",
            "114/114 [==============================] - 0s 3ms/step - loss: 0.0860 - accuracy: 0.9736 - val_loss: 0.3263 - val_accuracy: 0.9133\n",
            "Epoch 10/15\n",
            "114/114 [==============================] - 0s 3ms/step - loss: 0.0733 - accuracy: 0.9792 - val_loss: 0.3204 - val_accuracy: 0.9218\n",
            "Epoch 11/15\n",
            "114/114 [==============================] - 0s 3ms/step - loss: 0.0757 - accuracy: 0.9770 - val_loss: 0.3200 - val_accuracy: 0.9263\n",
            "Epoch 12/15\n",
            "114/114 [==============================] - 0s 3ms/step - loss: 0.0547 - accuracy: 0.9843 - val_loss: 0.3165 - val_accuracy: 0.9218\n",
            "Epoch 13/15\n",
            "114/114 [==============================] - 0s 3ms/step - loss: 0.0553 - accuracy: 0.9846 - val_loss: 0.3117 - val_accuracy: 0.9283\n",
            "Epoch 14/15\n",
            "114/114 [==============================] - 0s 3ms/step - loss: 0.0408 - accuracy: 0.9898 - val_loss: 0.3369 - val_accuracy: 0.9193\n",
            "Epoch 15/15\n",
            "114/114 [==============================] - 0s 3ms/step - loss: 0.0376 - accuracy: 0.9898 - val_loss: 0.3333 - val_accuracy: 0.9223\n"
          ],
          "name": "stdout"
        },
        {
          "output_type": "execute_result",
          "data": {
            "text/plain": [
              "<tensorflow.python.keras.callbacks.History at 0x7f2e6a2d0490>"
            ]
          },
          "metadata": {
            "tags": []
          },
          "execution_count": 13
        }
      ]
    },
    {
      "cell_type": "markdown",
      "metadata": {
        "id": "tyoOF0wQxl50"
      },
      "source": [
        "###### Model 2: Locally Connected Model"
      ]
    },
    {
      "cell_type": "markdown",
      "metadata": {
        "id": "0lfiwwrTRXRj"
      },
      "source": [
        "The three initializers used to set the model weights are 'Zeros', 'RandomNormal' and 'HeUniform'. The comparison of training loss(*loss*), training accuracy (*accuracy*), validation loss(*val_loss*) and validation accuracy(*val_accuracy*) for each experiment with varying initializers can be seen in the training process below. The ranking of initializers best to worst (when analyzing training loss and accuracy) is: 1) RandomNormal 2)HeUniform 3)Zeros."
      ]
    },
    {
      "cell_type": "code",
      "metadata": {
        "colab": {
          "base_uri": "https://localhost:8080/"
        },
        "id": "tnCiB6Xfm17J",
        "outputId": "3fcdc462-6685-4680-be84-3885d9e07948"
      },
      "source": [
        "# define initializer --> slow loss convergence and poor accuracy\n",
        "initializer = 'Zeros'\n",
        "loc_con_model = locally_connected_model(lr, momentum, img_h, img_w, initializer)\n",
        "loc_con_model.fit(train_data, train_labels, batch_size=batch_size, epochs=epochs, validation_data=(test_data, test_labels))"
      ],
      "execution_count": null,
      "outputs": [
        {
          "output_type": "stream",
          "text": [
            "Epoch 1/15\n",
            "114/114 [==============================] - 9s 30ms/step - loss: 2.2924 - accuracy: 0.1596 - val_loss: 2.2677 - val_accuracy: 0.1789\n",
            "Epoch 2/15\n",
            "114/114 [==============================] - 1s 12ms/step - loss: 2.2738 - accuracy: 0.1623 - val_loss: 2.2648 - val_accuracy: 0.1789\n",
            "Epoch 3/15\n",
            "114/114 [==============================] - 1s 13ms/step - loss: 2.2679 - accuracy: 0.1671 - val_loss: 2.2651 - val_accuracy: 0.1789\n",
            "Epoch 4/15\n",
            "114/114 [==============================] - 1s 12ms/step - loss: 2.2679 - accuracy: 0.1635 - val_loss: 2.2652 - val_accuracy: 0.1789\n",
            "Epoch 5/15\n",
            "114/114 [==============================] - 1s 13ms/step - loss: 2.2691 - accuracy: 0.1652 - val_loss: 2.2655 - val_accuracy: 0.1789\n",
            "Epoch 6/15\n",
            "114/114 [==============================] - 1s 12ms/step - loss: 2.2729 - accuracy: 0.1618 - val_loss: 2.2654 - val_accuracy: 0.1789\n",
            "Epoch 7/15\n",
            "114/114 [==============================] - 1s 13ms/step - loss: 2.2678 - accuracy: 0.1619 - val_loss: 2.2654 - val_accuracy: 0.1789\n",
            "Epoch 8/15\n",
            "114/114 [==============================] - 1s 13ms/step - loss: 2.2706 - accuracy: 0.1607 - val_loss: 2.2651 - val_accuracy: 0.1789\n",
            "Epoch 9/15\n",
            "114/114 [==============================] - 1s 13ms/step - loss: 2.2653 - accuracy: 0.1665 - val_loss: 2.2653 - val_accuracy: 0.1789\n",
            "Epoch 10/15\n",
            "114/114 [==============================] - 1s 13ms/step - loss: 2.2658 - accuracy: 0.1675 - val_loss: 2.2657 - val_accuracy: 0.1789\n",
            "Epoch 11/15\n",
            "114/114 [==============================] - 1s 12ms/step - loss: 2.2664 - accuracy: 0.1650 - val_loss: 2.2655 - val_accuracy: 0.1789\n",
            "Epoch 12/15\n",
            "114/114 [==============================] - 1s 12ms/step - loss: 2.2691 - accuracy: 0.1632 - val_loss: 2.2653 - val_accuracy: 0.1789\n",
            "Epoch 13/15\n",
            "114/114 [==============================] - 1s 13ms/step - loss: 2.2761 - accuracy: 0.1579 - val_loss: 2.2657 - val_accuracy: 0.1789\n",
            "Epoch 14/15\n",
            "114/114 [==============================] - 1s 13ms/step - loss: 2.2701 - accuracy: 0.1663 - val_loss: 2.2660 - val_accuracy: 0.1789\n",
            "Epoch 15/15\n",
            "114/114 [==============================] - 1s 13ms/step - loss: 2.2695 - accuracy: 0.1638 - val_loss: 2.2655 - val_accuracy: 0.1789\n"
          ],
          "name": "stdout"
        },
        {
          "output_type": "execute_result",
          "data": {
            "text/plain": [
              "<tensorflow.python.keras.callbacks.History at 0x7f2e60263990>"
            ]
          },
          "metadata": {
            "tags": []
          },
          "execution_count": 14
        }
      ]
    },
    {
      "cell_type": "code",
      "metadata": {
        "colab": {
          "base_uri": "https://localhost:8080/"
        },
        "id": "N24LqXZeyDGF",
        "outputId": "6d1f630e-03ba-468a-e884-0b3dd35dbe3a"
      },
      "source": [
        "# define initializer --> fast loss convergence and good accuracy\n",
        "initializer = 'RandomNormal'\n",
        "loc_con_model = locally_connected_model(lr, momentum, img_h, img_w, initializer)\n",
        "loc_con_model.fit(train_data, train_labels, batch_size=batch_size, epochs=epochs, validation_data=(test_data, test_labels))"
      ],
      "execution_count": null,
      "outputs": [
        {
          "output_type": "stream",
          "text": [
            "Epoch 1/15\n",
            "114/114 [==============================] - 9s 29ms/step - loss: 1.5699 - accuracy: 0.5130 - val_loss: 0.4756 - val_accuracy: 0.8520\n",
            "Epoch 2/15\n",
            "114/114 [==============================] - 1s 12ms/step - loss: 0.3057 - accuracy: 0.9131 - val_loss: 0.3908 - val_accuracy: 0.8914\n",
            "Epoch 3/15\n",
            "114/114 [==============================] - 1s 12ms/step - loss: 0.1964 - accuracy: 0.9473 - val_loss: 0.3034 - val_accuracy: 0.9128\n",
            "Epoch 4/15\n",
            "114/114 [==============================] - 1s 12ms/step - loss: 0.1544 - accuracy: 0.9593 - val_loss: 0.2744 - val_accuracy: 0.9228\n",
            "Epoch 5/15\n",
            "114/114 [==============================] - 1s 12ms/step - loss: 0.1215 - accuracy: 0.9704 - val_loss: 0.2497 - val_accuracy: 0.9347\n",
            "Epoch 6/15\n",
            "114/114 [==============================] - 1s 12ms/step - loss: 0.0864 - accuracy: 0.9796 - val_loss: 0.2364 - val_accuracy: 0.9377\n",
            "Epoch 7/15\n",
            "114/114 [==============================] - 1s 12ms/step - loss: 0.0774 - accuracy: 0.9785 - val_loss: 0.2298 - val_accuracy: 0.9377\n",
            "Epoch 8/15\n",
            "114/114 [==============================] - 1s 12ms/step - loss: 0.0580 - accuracy: 0.9874 - val_loss: 0.2263 - val_accuracy: 0.9387\n",
            "Epoch 9/15\n",
            "114/114 [==============================] - 1s 12ms/step - loss: 0.0544 - accuracy: 0.9870 - val_loss: 0.2249 - val_accuracy: 0.9407\n",
            "Epoch 10/15\n",
            "114/114 [==============================] - 1s 12ms/step - loss: 0.0480 - accuracy: 0.9887 - val_loss: 0.2177 - val_accuracy: 0.9437\n",
            "Epoch 11/15\n",
            "114/114 [==============================] - 1s 12ms/step - loss: 0.0370 - accuracy: 0.9934 - val_loss: 0.2115 - val_accuracy: 0.9422\n",
            "Epoch 12/15\n",
            "114/114 [==============================] - 1s 12ms/step - loss: 0.0336 - accuracy: 0.9938 - val_loss: 0.2099 - val_accuracy: 0.9462\n",
            "Epoch 13/15\n",
            "114/114 [==============================] - 1s 12ms/step - loss: 0.0279 - accuracy: 0.9951 - val_loss: 0.2091 - val_accuracy: 0.9447\n",
            "Epoch 14/15\n",
            "114/114 [==============================] - 1s 12ms/step - loss: 0.0239 - accuracy: 0.9964 - val_loss: 0.2101 - val_accuracy: 0.9487\n",
            "Epoch 15/15\n",
            "114/114 [==============================] - 1s 12ms/step - loss: 0.0180 - accuracy: 0.9978 - val_loss: 0.2173 - val_accuracy: 0.9457\n"
          ],
          "name": "stdout"
        },
        {
          "output_type": "execute_result",
          "data": {
            "text/plain": [
              "<tensorflow.python.keras.callbacks.History at 0x7f2e00c8e910>"
            ]
          },
          "metadata": {
            "tags": []
          },
          "execution_count": 15
        }
      ]
    },
    {
      "cell_type": "code",
      "metadata": {
        "colab": {
          "base_uri": "https://localhost:8080/"
        },
        "id": "UjJp-onEyER0",
        "outputId": "786387fd-4165-4493-8d61-5fbf2137ea69"
      },
      "source": [
        "# define initializer --> fast loss convergence and good(but worse than previous case) accuracy\n",
        "initializer = 'HeUniform'\n",
        "loc_con_model = locally_connected_model(lr, momentum, img_h, img_w, initializer)\n",
        "loc_con_model.fit(train_data, train_labels, batch_size=batch_size, epochs=epochs, validation_data=(test_data, test_labels))"
      ],
      "execution_count": null,
      "outputs": [
        {
          "output_type": "stream",
          "text": [
            "Epoch 1/15\n",
            "114/114 [==============================] - 9s 29ms/step - loss: 2.2793 - accuracy: 0.1602 - val_loss: 2.2543 - val_accuracy: 0.1789\n",
            "Epoch 2/15\n",
            "114/114 [==============================] - 1s 12ms/step - loss: 2.2486 - accuracy: 0.1637 - val_loss: 2.1954 - val_accuracy: 0.3074\n",
            "Epoch 3/15\n",
            "114/114 [==============================] - 1s 12ms/step - loss: 2.1190 - accuracy: 0.3062 - val_loss: 1.6247 - val_accuracy: 0.3837\n",
            "Epoch 4/15\n",
            "114/114 [==============================] - 1s 13ms/step - loss: 1.3544 - accuracy: 0.5207 - val_loss: 0.8435 - val_accuracy: 0.7309\n",
            "Epoch 5/15\n",
            "114/114 [==============================] - 1s 13ms/step - loss: 0.6206 - accuracy: 0.8051 - val_loss: 0.6225 - val_accuracy: 0.8042\n",
            "Epoch 6/15\n",
            "114/114 [==============================] - 1s 13ms/step - loss: 0.4473 - accuracy: 0.8550 - val_loss: 0.5719 - val_accuracy: 0.8311\n",
            "Epoch 7/15\n",
            "114/114 [==============================] - 1s 12ms/step - loss: 0.3982 - accuracy: 0.8724 - val_loss: 0.5352 - val_accuracy: 0.8331\n",
            "Epoch 8/15\n",
            "114/114 [==============================] - 1s 13ms/step - loss: 0.3338 - accuracy: 0.8875 - val_loss: 0.4857 - val_accuracy: 0.8535\n",
            "Epoch 9/15\n",
            "114/114 [==============================] - 1s 12ms/step - loss: 0.3213 - accuracy: 0.9028 - val_loss: 0.4632 - val_accuracy: 0.8655\n",
            "Epoch 10/15\n",
            "114/114 [==============================] - 1s 12ms/step - loss: 0.2657 - accuracy: 0.9155 - val_loss: 0.4378 - val_accuracy: 0.8754\n",
            "Epoch 11/15\n",
            "114/114 [==============================] - 1s 12ms/step - loss: 0.2297 - accuracy: 0.9321 - val_loss: 0.4052 - val_accuracy: 0.8864\n",
            "Epoch 12/15\n",
            "114/114 [==============================] - 1s 12ms/step - loss: 0.2148 - accuracy: 0.9410 - val_loss: 0.3844 - val_accuracy: 0.8984\n",
            "Epoch 13/15\n",
            "114/114 [==============================] - 1s 12ms/step - loss: 0.1903 - accuracy: 0.9484 - val_loss: 0.3700 - val_accuracy: 0.8989\n",
            "Epoch 14/15\n",
            "114/114 [==============================] - 1s 12ms/step - loss: 0.1641 - accuracy: 0.9518 - val_loss: 0.3619 - val_accuracy: 0.9063\n",
            "Epoch 15/15\n",
            "114/114 [==============================] - 1s 12ms/step - loss: 0.1493 - accuracy: 0.9588 - val_loss: 0.3487 - val_accuracy: 0.9088\n"
          ],
          "name": "stdout"
        },
        {
          "output_type": "execute_result",
          "data": {
            "text/plain": [
              "<tensorflow.python.keras.callbacks.History at 0x7f2dde306210>"
            ]
          },
          "metadata": {
            "tags": []
          },
          "execution_count": 16
        }
      ]
    },
    {
      "cell_type": "markdown",
      "metadata": {
        "id": "7H0mPLcDyMhS"
      },
      "source": [
        "###### Model 3: Convolutional Model"
      ]
    },
    {
      "cell_type": "markdown",
      "metadata": {
        "id": "khsya7iuRyAt"
      },
      "source": [
        "The three initializers used to set the model weights are 'Zeros', 'HeUniform' and 'HeNormal'. The comparison of training loss(*loss*), training accuracy (*accuracy*), validation loss(*val_loss*) and validation accuracy(*val_accuracy*) for each experiment with varying initializers can be seen in the training process below. The ranking of initializers best to worst (when analyzing training loss and accuracy) is: 1) HeUniform 2)HeRandom 3)Zeros."
      ]
    },
    {
      "cell_type": "code",
      "metadata": {
        "colab": {
          "base_uri": "https://localhost:8080/"
        },
        "id": "ov8AWgXznouD",
        "outputId": "916c3f48-cd0f-4651-cb41-6af63610d775"
      },
      "source": [
        "# define initializer --> slow loss convergence and poor accuracy\n",
        "initializer = 'Zeros'\n",
        "conv_model = conv_model(lr, momentum, img_h, img_w, initializer)\n",
        "conv_model.fit(train_data, train_labels, batch_size=batch_size, epochs=epochs, validation_data=(test_data, test_labels))"
      ],
      "execution_count": null,
      "outputs": [
        {
          "output_type": "stream",
          "text": [
            "Epoch 1/15\n",
            "114/114 [==============================] - 2s 6ms/step - loss: 2.2927 - accuracy: 0.1554 - val_loss: 2.2672 - val_accuracy: 0.1789\n",
            "Epoch 2/15\n",
            "114/114 [==============================] - 0s 4ms/step - loss: 2.2729 - accuracy: 0.1611 - val_loss: 2.2653 - val_accuracy: 0.1789\n",
            "Epoch 3/15\n",
            "114/114 [==============================] - 0s 4ms/step - loss: 2.2698 - accuracy: 0.1636 - val_loss: 2.2651 - val_accuracy: 0.1789\n",
            "Epoch 4/15\n",
            "114/114 [==============================] - 0s 4ms/step - loss: 2.2674 - accuracy: 0.1675 - val_loss: 2.2654 - val_accuracy: 0.1789\n",
            "Epoch 5/15\n",
            "114/114 [==============================] - 0s 4ms/step - loss: 2.2726 - accuracy: 0.1573 - val_loss: 2.2651 - val_accuracy: 0.1789\n",
            "Epoch 6/15\n",
            "114/114 [==============================] - 0s 4ms/step - loss: 2.2688 - accuracy: 0.1590 - val_loss: 2.2648 - val_accuracy: 0.1789\n",
            "Epoch 7/15\n",
            "114/114 [==============================] - 0s 4ms/step - loss: 2.2661 - accuracy: 0.1680 - val_loss: 2.2655 - val_accuracy: 0.1789\n",
            "Epoch 8/15\n",
            "114/114 [==============================] - 0s 4ms/step - loss: 2.2693 - accuracy: 0.1636 - val_loss: 2.2654 - val_accuracy: 0.1789\n",
            "Epoch 9/15\n",
            "114/114 [==============================] - 0s 4ms/step - loss: 2.2728 - accuracy: 0.1620 - val_loss: 2.2658 - val_accuracy: 0.1789\n",
            "Epoch 10/15\n",
            "114/114 [==============================] - 0s 4ms/step - loss: 2.2713 - accuracy: 0.1589 - val_loss: 2.2653 - val_accuracy: 0.1789\n",
            "Epoch 11/15\n",
            "114/114 [==============================] - 0s 4ms/step - loss: 2.2715 - accuracy: 0.1622 - val_loss: 2.2655 - val_accuracy: 0.1789\n",
            "Epoch 12/15\n",
            "114/114 [==============================] - 0s 4ms/step - loss: 2.2645 - accuracy: 0.1706 - val_loss: 2.2655 - val_accuracy: 0.1789\n",
            "Epoch 13/15\n",
            "114/114 [==============================] - 0s 4ms/step - loss: 2.2682 - accuracy: 0.1614 - val_loss: 2.2655 - val_accuracy: 0.1789\n",
            "Epoch 14/15\n",
            "114/114 [==============================] - 0s 4ms/step - loss: 2.2696 - accuracy: 0.1620 - val_loss: 2.2653 - val_accuracy: 0.1789\n",
            "Epoch 15/15\n",
            "114/114 [==============================] - 0s 4ms/step - loss: 2.2695 - accuracy: 0.1693 - val_loss: 2.2655 - val_accuracy: 0.1789\n"
          ],
          "name": "stdout"
        },
        {
          "output_type": "execute_result",
          "data": {
            "text/plain": [
              "<tensorflow.python.keras.callbacks.History at 0x7f2dbbedf750>"
            ]
          },
          "metadata": {
            "tags": []
          },
          "execution_count": 17
        }
      ]
    },
    {
      "cell_type": "code",
      "metadata": {
        "id": "8BX30-xb9Og3"
      },
      "source": [
        "# redefine model to avoid errors\n",
        "\n",
        "def conv_model(lr_val, momentum_val, img_h, img_w, initializer):\n",
        "  model = Sequential()\n",
        "  model.add(InputLayer(input_shape=(img_h, img_w, 1)))\n",
        "  model.add(Conv2D(64, (3, 3), activation='relu', kernel_initializer=initializer))\n",
        "  model.add(Conv2D(32, (3, 3), activation='relu', kernel_initializer=initializer))\n",
        "  model.add(Conv2D(32, (3, 3), activation='relu', kernel_initializer=initializer))\n",
        "  model.add(Flatten())\n",
        "  model.add(Dense(64, activation='relu', kernel_initializer=initializer))\n",
        "  model.add(Dense(10, activation='softmax'))\n",
        "  # compile model\n",
        "  opt = SGD(lr=lr_val, momentum=momentum_val)\n",
        "  model.compile(optimizer=opt, loss='categorical_crossentropy', metrics=['accuracy'])\n",
        "  return model"
      ],
      "execution_count": null,
      "outputs": []
    },
    {
      "cell_type": "code",
      "metadata": {
        "colab": {
          "base_uri": "https://localhost:8080/"
        },
        "id": "V9QjhadCo8nR",
        "outputId": "12c56838-9b0d-4496-9dd7-799faf7a2fc0"
      },
      "source": [
        "# define initializer --> fast loss convergence and good accuracy\n",
        "initializer = 'HeUniform'\n",
        "conv_model = conv_model(lr, momentum, img_h, img_w, initializer)\n",
        "conv_model.fit(train_data, train_labels, batch_size=batch_size, epochs=epochs, validation_data=(test_data, test_labels))"
      ],
      "execution_count": null,
      "outputs": [
        {
          "output_type": "stream",
          "text": [
            "Epoch 1/15\n",
            "114/114 [==============================] - 1s 5ms/step - loss: 0.8805 - accuracy: 0.7141 - val_loss: 0.2922 - val_accuracy: 0.9173\n",
            "Epoch 2/15\n",
            "114/114 [==============================] - 0s 4ms/step - loss: 0.1107 - accuracy: 0.9684 - val_loss: 0.2476 - val_accuracy: 0.9367\n",
            "Epoch 3/15\n",
            "114/114 [==============================] - 0s 4ms/step - loss: 0.0582 - accuracy: 0.9835 - val_loss: 0.2250 - val_accuracy: 0.9372\n",
            "Epoch 4/15\n",
            "114/114 [==============================] - 0s 4ms/step - loss: 0.0314 - accuracy: 0.9918 - val_loss: 0.2329 - val_accuracy: 0.9502\n",
            "Epoch 5/15\n",
            "114/114 [==============================] - 0s 4ms/step - loss: 0.0177 - accuracy: 0.9950 - val_loss: 0.2278 - val_accuracy: 0.9522\n",
            "Epoch 6/15\n",
            "114/114 [==============================] - 0s 4ms/step - loss: 0.0158 - accuracy: 0.9963 - val_loss: 0.2445 - val_accuracy: 0.9527\n",
            "Epoch 7/15\n",
            "114/114 [==============================] - 0s 4ms/step - loss: 0.0114 - accuracy: 0.9969 - val_loss: 0.2319 - val_accuracy: 0.9562\n",
            "Epoch 8/15\n",
            "114/114 [==============================] - 0s 4ms/step - loss: 0.0046 - accuracy: 0.9996 - val_loss: 0.2564 - val_accuracy: 0.9507\n",
            "Epoch 9/15\n",
            "114/114 [==============================] - 0s 4ms/step - loss: 0.0056 - accuracy: 0.9978 - val_loss: 0.2398 - val_accuracy: 0.9557\n",
            "Epoch 10/15\n",
            "114/114 [==============================] - 0s 4ms/step - loss: 0.0029 - accuracy: 0.9993 - val_loss: 0.2872 - val_accuracy: 0.9472\n",
            "Epoch 11/15\n",
            "114/114 [==============================] - 0s 4ms/step - loss: 0.0056 - accuracy: 0.9988 - val_loss: 0.2546 - val_accuracy: 0.9562\n",
            "Epoch 12/15\n",
            "114/114 [==============================] - 0s 4ms/step - loss: 0.0023 - accuracy: 0.9998 - val_loss: 0.2742 - val_accuracy: 0.9552\n",
            "Epoch 13/15\n",
            "114/114 [==============================] - 0s 4ms/step - loss: 0.0023 - accuracy: 0.9994 - val_loss: 0.2658 - val_accuracy: 0.9522\n",
            "Epoch 14/15\n",
            "114/114 [==============================] - 0s 4ms/step - loss: 0.0026 - accuracy: 0.9994 - val_loss: 0.2771 - val_accuracy: 0.9542\n",
            "Epoch 15/15\n",
            "114/114 [==============================] - 0s 4ms/step - loss: 0.0060 - accuracy: 0.9992 - val_loss: 0.2763 - val_accuracy: 0.9542\n"
          ],
          "name": "stdout"
        },
        {
          "output_type": "execute_result",
          "data": {
            "text/plain": [
              "<tensorflow.python.keras.callbacks.History at 0x7f2dbbdf6a50>"
            ]
          },
          "metadata": {
            "tags": []
          },
          "execution_count": 19
        }
      ]
    },
    {
      "cell_type": "code",
      "metadata": {
        "id": "51bet_Pm4x09"
      },
      "source": [
        "# redefine model to avoid errors\n",
        "\n",
        "def conv_model(lr_val, momentum_val, img_h, img_w, initializer):\n",
        "  model = Sequential()\n",
        "  model.add(InputLayer(input_shape=(img_h, img_w, 1)))\n",
        "  model.add(Conv2D(64, (3, 3), activation='relu', kernel_initializer=initializer))\n",
        "  model.add(Conv2D(32, (3, 3), activation='relu', kernel_initializer=initializer))\n",
        "  model.add(Conv2D(32, (3, 3), activation='relu', kernel_initializer=initializer))\n",
        "  model.add(Flatten())\n",
        "  model.add(Dense(64, activation='relu', kernel_initializer=initializer))\n",
        "  model.add(Dense(10, activation='softmax'))\n",
        "  # compile model\n",
        "  opt = SGD(lr=lr_val, momentum=momentum_val)\n",
        "  model.compile(optimizer=opt, loss='categorical_crossentropy', metrics=['accuracy'])\n",
        "  return model"
      ],
      "execution_count": null,
      "outputs": []
    },
    {
      "cell_type": "code",
      "metadata": {
        "colab": {
          "base_uri": "https://localhost:8080/"
        },
        "id": "k3suvFFT93Oh",
        "outputId": "747a0da3-28df-40ae-8c1f-55d2491a512e"
      },
      "source": [
        "# define initializer --> fast loss convergence and good(but worse than previous case) accuracy\n",
        "initializer = 'HeNormal'\n",
        "conv_model = conv_model(lr, momentum, img_h, img_w, initializer)\n",
        "conv_model.fit(train_data, train_labels, batch_size=batch_size, epochs=epochs, validation_data=(test_data, test_labels))"
      ],
      "execution_count": null,
      "outputs": [
        {
          "output_type": "stream",
          "text": [
            "Epoch 1/15\n",
            "114/114 [==============================] - 1s 5ms/step - loss: 0.7936 - accuracy: 0.7504 - val_loss: 0.2472 - val_accuracy: 0.9357\n",
            "Epoch 2/15\n",
            "114/114 [==============================] - 0s 4ms/step - loss: 0.0971 - accuracy: 0.9748 - val_loss: 0.2187 - val_accuracy: 0.9457\n",
            "Epoch 3/15\n",
            "114/114 [==============================] - 0s 4ms/step - loss: 0.0446 - accuracy: 0.9867 - val_loss: 0.2220 - val_accuracy: 0.9407\n",
            "Epoch 4/15\n",
            "114/114 [==============================] - 0s 4ms/step - loss: 0.0351 - accuracy: 0.9904 - val_loss: 0.2223 - val_accuracy: 0.9457\n",
            "Epoch 5/15\n",
            "114/114 [==============================] - 0s 4ms/step - loss: 0.0168 - accuracy: 0.9961 - val_loss: 0.2716 - val_accuracy: 0.9497\n",
            "Epoch 6/15\n",
            "114/114 [==============================] - 0s 4ms/step - loss: 0.0122 - accuracy: 0.9975 - val_loss: 0.2536 - val_accuracy: 0.9517\n",
            "Epoch 7/15\n",
            "114/114 [==============================] - 0s 4ms/step - loss: 0.0060 - accuracy: 0.9980 - val_loss: 0.2532 - val_accuracy: 0.9557\n",
            "Epoch 8/15\n",
            "114/114 [==============================] - 0s 4ms/step - loss: 0.0093 - accuracy: 0.9987 - val_loss: 0.2563 - val_accuracy: 0.9542\n",
            "Epoch 9/15\n",
            "114/114 [==============================] - 0s 4ms/step - loss: 0.0032 - accuracy: 0.9995 - val_loss: 0.2692 - val_accuracy: 0.9502\n",
            "Epoch 10/15\n",
            "114/114 [==============================] - 0s 4ms/step - loss: 0.0044 - accuracy: 0.9993 - val_loss: 0.2879 - val_accuracy: 0.9512\n",
            "Epoch 11/15\n",
            "114/114 [==============================] - 0s 4ms/step - loss: 0.0048 - accuracy: 0.9989 - val_loss: 0.2570 - val_accuracy: 0.9542\n",
            "Epoch 12/15\n",
            "114/114 [==============================] - 0s 4ms/step - loss: 5.6032e-04 - accuracy: 1.0000 - val_loss: 0.2761 - val_accuracy: 0.9537\n",
            "Epoch 13/15\n",
            "114/114 [==============================] - 0s 4ms/step - loss: 0.0021 - accuracy: 0.9999 - val_loss: 0.2603 - val_accuracy: 0.9581\n",
            "Epoch 14/15\n",
            "114/114 [==============================] - 0s 4ms/step - loss: 0.0034 - accuracy: 0.9991 - val_loss: 0.2753 - val_accuracy: 0.9552\n",
            "Epoch 15/15\n",
            "114/114 [==============================] - 0s 4ms/step - loss: 0.0019 - accuracy: 0.9998 - val_loss: 0.2772 - val_accuracy: 0.9562\n"
          ],
          "name": "stdout"
        },
        {
          "output_type": "execute_result",
          "data": {
            "text/plain": [
              "<tensorflow.python.keras.callbacks.History at 0x7f2dbb42dad0>"
            ]
          },
          "metadata": {
            "tags": []
          },
          "execution_count": 21
        }
      ]
    },
    {
      "cell_type": "code",
      "metadata": {
        "id": "AoA-MHW2LGbb"
      },
      "source": [
        "# redefine model to avoid errors\n",
        "\n",
        "def conv_model(lr_val, momentum_val, img_h, img_w, initializer):\n",
        "  model = Sequential()\n",
        "  model.add(InputLayer(input_shape=(img_h, img_w, 1)))\n",
        "  model.add(Conv2D(64, (3, 3), activation='relu', kernel_initializer=initializer))\n",
        "  model.add(Conv2D(32, (3, 3), activation='relu', kernel_initializer=initializer))\n",
        "  model.add(Conv2D(32, (3, 3), activation='relu', kernel_initializer=initializer))\n",
        "  model.add(Flatten())\n",
        "  model.add(Dense(64, activation='relu', kernel_initializer=initializer))\n",
        "  model.add(Dense(10, activation='softmax'))\n",
        "  # compile model\n",
        "  opt = SGD(lr=lr_val, momentum=momentum_val)\n",
        "  model.compile(optimizer=opt, loss='categorical_crossentropy', metrics=['accuracy'])\n",
        "  return model"
      ],
      "execution_count": null,
      "outputs": []
    },
    {
      "cell_type": "markdown",
      "metadata": {
        "id": "hvQ_Y2FjEGn8"
      },
      "source": [
        "#### Experiment 2: Varying Learning Rates"
      ]
    },
    {
      "cell_type": "code",
      "metadata": {
        "id": "n0oI7ldyFhqe"
      },
      "source": [
        "# Experiment 2 fixed hyper-params\n",
        "epochs = 15\n",
        "batch_size = 64\n",
        "# lr = 0.01\n",
        "initializer = 'HeUniform'\n",
        "momentum = 0.9"
      ],
      "execution_count": null,
      "outputs": []
    },
    {
      "cell_type": "markdown",
      "metadata": {
        "id": "dymuNpa5Fhq1"
      },
      "source": [
        "###### Model 1: Fully Connected Model"
      ]
    },
    {
      "cell_type": "code",
      "metadata": {
        "colab": {
          "base_uri": "https://localhost:8080/"
        },
        "id": "JeK4HyVxFhq2",
        "outputId": "fc0cdea4-2c39-4634-89de-c706de273428"
      },
      "source": [
        "# define initializer --> slow loss convergence and poor accuracy\n",
        "lr = 1e-6\n",
        "fc_model = define_fully_connected_model(lr, momentum, img_h, img_w, initializer)\n",
        "fc_model.fit(train_data, train_labels, batch_size=batch_size, epochs=epochs, validation_data=(test_data, test_labels))\n"
      ],
      "execution_count": null,
      "outputs": [
        {
          "output_type": "stream",
          "text": [
            "Epoch 1/15\n",
            "114/114 [==============================] - 1s 4ms/step - loss: 2.4262 - accuracy: 0.2134 - val_loss: 2.4463 - val_accuracy: 0.1978\n",
            "Epoch 2/15\n",
            "114/114 [==============================] - 0s 3ms/step - loss: 2.4115 - accuracy: 0.2195 - val_loss: 2.4348 - val_accuracy: 0.1978\n",
            "Epoch 3/15\n",
            "114/114 [==============================] - 0s 3ms/step - loss: 2.4113 - accuracy: 0.2147 - val_loss: 2.4238 - val_accuracy: 0.1988\n",
            "Epoch 4/15\n",
            "114/114 [==============================] - 0s 3ms/step - loss: 2.4059 - accuracy: 0.2106 - val_loss: 2.4131 - val_accuracy: 0.2033\n",
            "Epoch 5/15\n",
            "114/114 [==============================] - 0s 3ms/step - loss: 2.3890 - accuracy: 0.2119 - val_loss: 2.4028 - val_accuracy: 0.2043\n",
            "Epoch 6/15\n",
            "114/114 [==============================] - 0s 3ms/step - loss: 2.3885 - accuracy: 0.2118 - val_loss: 2.3929 - val_accuracy: 0.2053\n",
            "Epoch 7/15\n",
            "114/114 [==============================] - 0s 3ms/step - loss: 2.3713 - accuracy: 0.2167 - val_loss: 2.3833 - val_accuracy: 0.2048\n",
            "Epoch 8/15\n",
            "114/114 [==============================] - 0s 3ms/step - loss: 2.3718 - accuracy: 0.2170 - val_loss: 2.3739 - val_accuracy: 0.2043\n",
            "Epoch 9/15\n",
            "114/114 [==============================] - 0s 3ms/step - loss: 2.3551 - accuracy: 0.2204 - val_loss: 2.3649 - val_accuracy: 0.2043\n",
            "Epoch 10/15\n",
            "114/114 [==============================] - 0s 3ms/step - loss: 2.3524 - accuracy: 0.2197 - val_loss: 2.3562 - val_accuracy: 0.2058\n",
            "Epoch 11/15\n",
            "114/114 [==============================] - 0s 3ms/step - loss: 2.3519 - accuracy: 0.2204 - val_loss: 2.3476 - val_accuracy: 0.2048\n",
            "Epoch 12/15\n",
            "114/114 [==============================] - 0s 3ms/step - loss: 2.3386 - accuracy: 0.2165 - val_loss: 2.3393 - val_accuracy: 0.2033\n",
            "Epoch 13/15\n",
            "114/114 [==============================] - 0s 3ms/step - loss: 2.3210 - accuracy: 0.2204 - val_loss: 2.3313 - val_accuracy: 0.2023\n",
            "Epoch 14/15\n",
            "114/114 [==============================] - 0s 3ms/step - loss: 2.3075 - accuracy: 0.2224 - val_loss: 2.3234 - val_accuracy: 0.2018\n",
            "Epoch 15/15\n",
            "114/114 [==============================] - 0s 3ms/step - loss: 2.3205 - accuracy: 0.2163 - val_loss: 2.3158 - val_accuracy: 0.2028\n"
          ],
          "name": "stdout"
        },
        {
          "output_type": "execute_result",
          "data": {
            "text/plain": [
              "<tensorflow.python.keras.callbacks.History at 0x7f2dbb261590>"
            ]
          },
          "metadata": {
            "tags": []
          },
          "execution_count": 24
        }
      ]
    },
    {
      "cell_type": "code",
      "metadata": {
        "colab": {
          "base_uri": "https://localhost:8080/"
        },
        "id": "utP57-IuFhq5",
        "outputId": "166a3f3d-6985-4b56-96ae-c97814935038"
      },
      "source": [
        "# define initializer --> fast loss convergence and good accuracy\n",
        "lr = 0.01\n",
        "fc_model = define_fully_connected_model(lr, momentum, img_h, img_w, initializer)\n",
        "fc_model.fit(train_data, train_labels, batch_size=batch_size, epochs=epochs, validation_data=(test_data, test_labels))"
      ],
      "execution_count": null,
      "outputs": [
        {
          "output_type": "stream",
          "text": [
            "Epoch 1/15\n",
            "114/114 [==============================] - 1s 4ms/step - loss: 1.0615 - accuracy: 0.6543 - val_loss: 0.3827 - val_accuracy: 0.8859\n",
            "Epoch 2/15\n",
            "114/114 [==============================] - 0s 3ms/step - loss: 0.1960 - accuracy: 0.9392 - val_loss: 0.3339 - val_accuracy: 0.9098\n",
            "Epoch 3/15\n",
            "114/114 [==============================] - 0s 3ms/step - loss: 0.1283 - accuracy: 0.9602 - val_loss: 0.3038 - val_accuracy: 0.9128\n",
            "Epoch 4/15\n",
            "114/114 [==============================] - 0s 3ms/step - loss: 0.1052 - accuracy: 0.9694 - val_loss: 0.2838 - val_accuracy: 0.9243\n",
            "Epoch 5/15\n",
            "114/114 [==============================] - 0s 3ms/step - loss: 0.0779 - accuracy: 0.9780 - val_loss: 0.2963 - val_accuracy: 0.9213\n",
            "Epoch 6/15\n",
            "114/114 [==============================] - 0s 3ms/step - loss: 0.0665 - accuracy: 0.9799 - val_loss: 0.2786 - val_accuracy: 0.9268\n",
            "Epoch 7/15\n",
            "114/114 [==============================] - 0s 3ms/step - loss: 0.0574 - accuracy: 0.9840 - val_loss: 0.2793 - val_accuracy: 0.9253\n",
            "Epoch 8/15\n",
            "114/114 [==============================] - 0s 3ms/step - loss: 0.0458 - accuracy: 0.9895 - val_loss: 0.2806 - val_accuracy: 0.9253\n",
            "Epoch 9/15\n",
            "114/114 [==============================] - 0s 3ms/step - loss: 0.0400 - accuracy: 0.9923 - val_loss: 0.2774 - val_accuracy: 0.9287\n",
            "Epoch 10/15\n",
            "114/114 [==============================] - 0s 3ms/step - loss: 0.0270 - accuracy: 0.9959 - val_loss: 0.2922 - val_accuracy: 0.9253\n",
            "Epoch 11/15\n",
            "114/114 [==============================] - 0s 3ms/step - loss: 0.0244 - accuracy: 0.9948 - val_loss: 0.2832 - val_accuracy: 0.9273\n",
            "Epoch 12/15\n",
            "114/114 [==============================] - 0s 3ms/step - loss: 0.0192 - accuracy: 0.9975 - val_loss: 0.2916 - val_accuracy: 0.9287\n",
            "Epoch 13/15\n",
            "114/114 [==============================] - 0s 3ms/step - loss: 0.0188 - accuracy: 0.9978 - val_loss: 0.2928 - val_accuracy: 0.9283\n",
            "Epoch 14/15\n",
            "114/114 [==============================] - 0s 3ms/step - loss: 0.0167 - accuracy: 0.9982 - val_loss: 0.2951 - val_accuracy: 0.9302\n",
            "Epoch 15/15\n",
            "114/114 [==============================] - 0s 3ms/step - loss: 0.0133 - accuracy: 0.9995 - val_loss: 0.2964 - val_accuracy: 0.9292\n"
          ],
          "name": "stdout"
        },
        {
          "output_type": "execute_result",
          "data": {
            "text/plain": [
              "<tensorflow.python.keras.callbacks.History at 0x7f2dbb13be10>"
            ]
          },
          "metadata": {
            "tags": []
          },
          "execution_count": 25
        }
      ]
    },
    {
      "cell_type": "code",
      "metadata": {
        "colab": {
          "base_uri": "https://localhost:8080/"
        },
        "id": "zQ4JDf5tFhq7",
        "outputId": "964268ec-4b5b-4c2e-d45f-adfbd39e72fa"
      },
      "source": [
        "# define initializer --> fast loss convergence and good(but worse than previous case) accuracy\n",
        "lr = 0.09\n",
        "fc_model = define_fully_connected_model(lr, momentum, img_h, img_w, initializer)\n",
        "fc_model.fit(train_data, train_labels, batch_size=batch_size, epochs=epochs, validation_data=(test_data, test_labels))"
      ],
      "execution_count": null,
      "outputs": [
        {
          "output_type": "stream",
          "text": [
            "Epoch 1/15\n",
            "114/114 [==============================] - 1s 4ms/step - loss: 1.0767 - accuracy: 0.6814 - val_loss: 0.6738 - val_accuracy: 0.8600\n",
            "Epoch 2/15\n",
            "114/114 [==============================] - 0s 3ms/step - loss: 0.3588 - accuracy: 0.9137 - val_loss: 0.5307 - val_accuracy: 0.8824\n",
            "Epoch 3/15\n",
            "114/114 [==============================] - 0s 3ms/step - loss: 0.2505 - accuracy: 0.9377 - val_loss: 0.4687 - val_accuracy: 0.9058\n",
            "Epoch 4/15\n",
            "114/114 [==============================] - 0s 3ms/step - loss: 0.2002 - accuracy: 0.9513 - val_loss: 0.5214 - val_accuracy: 0.8939\n",
            "Epoch 5/15\n",
            "114/114 [==============================] - 0s 3ms/step - loss: 0.1882 - accuracy: 0.9505 - val_loss: 0.5208 - val_accuracy: 0.9008\n",
            "Epoch 6/15\n",
            "114/114 [==============================] - 0s 3ms/step - loss: 0.1751 - accuracy: 0.9560 - val_loss: 0.5490 - val_accuracy: 0.9063\n",
            "Epoch 7/15\n",
            "114/114 [==============================] - 0s 3ms/step - loss: 0.1517 - accuracy: 0.9625 - val_loss: 0.5361 - val_accuracy: 0.9113\n",
            "Epoch 8/15\n",
            "114/114 [==============================] - 0s 3ms/step - loss: 0.1662 - accuracy: 0.9598 - val_loss: 0.5826 - val_accuracy: 0.9058\n",
            "Epoch 9/15\n",
            "114/114 [==============================] - 0s 3ms/step - loss: 0.1625 - accuracy: 0.9606 - val_loss: 0.5481 - val_accuracy: 0.9198\n",
            "Epoch 10/15\n",
            "114/114 [==============================] - 0s 3ms/step - loss: 0.1227 - accuracy: 0.9690 - val_loss: 0.5025 - val_accuracy: 0.9123\n",
            "Epoch 11/15\n",
            "114/114 [==============================] - 0s 3ms/step - loss: 0.1559 - accuracy: 0.9604 - val_loss: 0.6122 - val_accuracy: 0.9123\n",
            "Epoch 12/15\n",
            "114/114 [==============================] - 0s 3ms/step - loss: 0.1142 - accuracy: 0.9697 - val_loss: 0.5938 - val_accuracy: 0.9153\n",
            "Epoch 13/15\n",
            "114/114 [==============================] - 0s 3ms/step - loss: 0.1292 - accuracy: 0.9690 - val_loss: 0.6217 - val_accuracy: 0.9078\n",
            "Epoch 14/15\n",
            "114/114 [==============================] - 0s 3ms/step - loss: 0.1220 - accuracy: 0.9708 - val_loss: 0.6881 - val_accuracy: 0.8984\n",
            "Epoch 15/15\n",
            "114/114 [==============================] - 0s 3ms/step - loss: 0.1159 - accuracy: 0.9698 - val_loss: 0.5483 - val_accuracy: 0.9143\n"
          ],
          "name": "stdout"
        },
        {
          "output_type": "execute_result",
          "data": {
            "text/plain": [
              "<tensorflow.python.keras.callbacks.History at 0x7f2dbafb39d0>"
            ]
          },
          "metadata": {
            "tags": []
          },
          "execution_count": 26
        }
      ]
    },
    {
      "cell_type": "markdown",
      "metadata": {
        "id": "c9ObasHiGml1"
      },
      "source": [
        "###### Model 2: Locally Connected Model"
      ]
    },
    {
      "cell_type": "code",
      "metadata": {
        "id": "an1Ka1flGzld"
      },
      "source": [
        "# set best initializer for Model 2\n",
        "initializer = \"RandomNormal\""
      ],
      "execution_count": null,
      "outputs": []
    },
    {
      "cell_type": "code",
      "metadata": {
        "colab": {
          "base_uri": "https://localhost:8080/"
        },
        "id": "f-ZNU3HiGmmL",
        "outputId": "776096ef-8ed3-4a46-be82-fdcfad116c66"
      },
      "source": [
        "# define initializer --> slow loss convergence and poor accuracy\n",
        "lr = 1e-6\n",
        "loc_con_model = locally_connected_model(lr, momentum, img_h, img_w, initializer)\n",
        "loc_con_model.fit(train_data, train_labels, batch_size=batch_size, epochs=epochs, validation_data=(test_data, test_labels))"
      ],
      "execution_count": null,
      "outputs": [
        {
          "output_type": "stream",
          "text": [
            "Epoch 1/15\n",
            "114/114 [==============================] - 9s 29ms/step - loss: 2.2945 - accuracy: 0.1108 - val_loss: 2.2858 - val_accuracy: 0.1181\n",
            "Epoch 2/15\n",
            "114/114 [==============================] - 1s 13ms/step - loss: 2.2914 - accuracy: 0.1172 - val_loss: 2.2846 - val_accuracy: 0.1236\n",
            "Epoch 3/15\n",
            "114/114 [==============================] - 1s 13ms/step - loss: 2.2924 - accuracy: 0.1088 - val_loss: 2.2834 - val_accuracy: 0.1271\n",
            "Epoch 4/15\n",
            "114/114 [==============================] - 1s 13ms/step - loss: 2.2876 - accuracy: 0.1291 - val_loss: 2.2822 - val_accuracy: 0.1325\n",
            "Epoch 5/15\n",
            "114/114 [==============================] - 1s 13ms/step - loss: 2.2871 - accuracy: 0.1230 - val_loss: 2.2810 - val_accuracy: 0.1375\n",
            "Epoch 6/15\n",
            "114/114 [==============================] - 1s 13ms/step - loss: 2.2865 - accuracy: 0.1325 - val_loss: 2.2798 - val_accuracy: 0.1435\n",
            "Epoch 7/15\n",
            "114/114 [==============================] - 1s 13ms/step - loss: 2.2844 - accuracy: 0.1412 - val_loss: 2.2787 - val_accuracy: 0.1485\n",
            "Epoch 8/15\n",
            "114/114 [==============================] - 1s 13ms/step - loss: 2.2865 - accuracy: 0.1380 - val_loss: 2.2775 - val_accuracy: 0.1490\n",
            "Epoch 9/15\n",
            "114/114 [==============================] - 1s 13ms/step - loss: 2.2873 - accuracy: 0.1460 - val_loss: 2.2763 - val_accuracy: 0.1579\n",
            "Epoch 10/15\n",
            "114/114 [==============================] - 1s 13ms/step - loss: 2.2813 - accuracy: 0.1557 - val_loss: 2.2752 - val_accuracy: 0.1654\n",
            "Epoch 11/15\n",
            "114/114 [==============================] - 1s 13ms/step - loss: 2.2843 - accuracy: 0.1582 - val_loss: 2.2740 - val_accuracy: 0.1699\n",
            "Epoch 12/15\n",
            "114/114 [==============================] - 1s 13ms/step - loss: 2.2793 - accuracy: 0.1648 - val_loss: 2.2728 - val_accuracy: 0.1734\n",
            "Epoch 13/15\n",
            "114/114 [==============================] - 1s 13ms/step - loss: 2.2776 - accuracy: 0.1736 - val_loss: 2.2717 - val_accuracy: 0.1764\n",
            "Epoch 14/15\n",
            "114/114 [==============================] - 1s 13ms/step - loss: 2.2751 - accuracy: 0.1854 - val_loss: 2.2705 - val_accuracy: 0.1809\n",
            "Epoch 15/15\n",
            "114/114 [==============================] - 1s 13ms/step - loss: 2.2745 - accuracy: 0.1888 - val_loss: 2.2694 - val_accuracy: 0.1849\n"
          ],
          "name": "stdout"
        },
        {
          "output_type": "execute_result",
          "data": {
            "text/plain": [
              "<tensorflow.python.keras.callbacks.History at 0x7f2d44a4bcd0>"
            ]
          },
          "metadata": {
            "tags": []
          },
          "execution_count": 28
        }
      ]
    },
    {
      "cell_type": "code",
      "metadata": {
        "colab": {
          "base_uri": "https://localhost:8080/"
        },
        "id": "Kupw73rZGmmN",
        "outputId": "f778cd2c-ab0d-4642-9fbc-1d2f586f5bc1"
      },
      "source": [
        "# define initializer --> fast loss convergence and good accuracy\n",
        "lr = 0.01\n",
        "loc_con_model = locally_connected_model(lr, momentum, img_h, img_w, initializer)\n",
        "loc_con_model.fit(train_data, train_labels, batch_size=batch_size, epochs=epochs, validation_data=(test_data, test_labels))"
      ],
      "execution_count": null,
      "outputs": [
        {
          "output_type": "stream",
          "text": [
            "Epoch 1/15\n",
            "114/114 [==============================] - 9s 29ms/step - loss: 1.5511 - accuracy: 0.5068 - val_loss: 0.4766 - val_accuracy: 0.8510\n",
            "Epoch 2/15\n",
            "114/114 [==============================] - 1s 13ms/step - loss: 0.3144 - accuracy: 0.9102 - val_loss: 0.3688 - val_accuracy: 0.8864\n",
            "Epoch 3/15\n",
            "114/114 [==============================] - 1s 13ms/step - loss: 0.1984 - accuracy: 0.9493 - val_loss: 0.3030 - val_accuracy: 0.9218\n",
            "Epoch 4/15\n",
            "114/114 [==============================] - 1s 12ms/step - loss: 0.1484 - accuracy: 0.9626 - val_loss: 0.2828 - val_accuracy: 0.9193\n",
            "Epoch 5/15\n",
            "114/114 [==============================] - 1s 13ms/step - loss: 0.1139 - accuracy: 0.9734 - val_loss: 0.2724 - val_accuracy: 0.9287\n",
            "Epoch 6/15\n",
            "114/114 [==============================] - 1s 13ms/step - loss: 0.0965 - accuracy: 0.9748 - val_loss: 0.2392 - val_accuracy: 0.9297\n",
            "Epoch 7/15\n",
            "114/114 [==============================] - 1s 12ms/step - loss: 0.0695 - accuracy: 0.9821 - val_loss: 0.2304 - val_accuracy: 0.9362\n",
            "Epoch 8/15\n",
            "114/114 [==============================] - 2s 13ms/step - loss: 0.0724 - accuracy: 0.9812 - val_loss: 0.2197 - val_accuracy: 0.9417\n",
            "Epoch 9/15\n",
            "114/114 [==============================] - 1s 13ms/step - loss: 0.0497 - accuracy: 0.9896 - val_loss: 0.2122 - val_accuracy: 0.9412\n",
            "Epoch 10/15\n",
            "114/114 [==============================] - 1s 13ms/step - loss: 0.0428 - accuracy: 0.9916 - val_loss: 0.2156 - val_accuracy: 0.9372\n",
            "Epoch 11/15\n",
            "114/114 [==============================] - 1s 13ms/step - loss: 0.0411 - accuracy: 0.9908 - val_loss: 0.2184 - val_accuracy: 0.9387\n",
            "Epoch 12/15\n",
            "114/114 [==============================] - 1s 12ms/step - loss: 0.0325 - accuracy: 0.9938 - val_loss: 0.2081 - val_accuracy: 0.9437\n",
            "Epoch 13/15\n",
            "114/114 [==============================] - 1s 13ms/step - loss: 0.0265 - accuracy: 0.9963 - val_loss: 0.1981 - val_accuracy: 0.9457\n",
            "Epoch 14/15\n",
            "114/114 [==============================] - 1s 12ms/step - loss: 0.0269 - accuracy: 0.9962 - val_loss: 0.2029 - val_accuracy: 0.9447\n",
            "Epoch 15/15\n",
            "114/114 [==============================] - 1s 13ms/step - loss: 0.0208 - accuracy: 0.9978 - val_loss: 0.2074 - val_accuracy: 0.9467\n"
          ],
          "name": "stdout"
        },
        {
          "output_type": "execute_result",
          "data": {
            "text/plain": [
              "<tensorflow.python.keras.callbacks.History at 0x7f2d40a1ddd0>"
            ]
          },
          "metadata": {
            "tags": []
          },
          "execution_count": 29
        }
      ]
    },
    {
      "cell_type": "code",
      "metadata": {
        "colab": {
          "base_uri": "https://localhost:8080/"
        },
        "id": "t30FMZeTGmmP",
        "outputId": "65c26f6a-c10f-4d89-d45a-ce1f578cfd09"
      },
      "source": [
        "# define initializer --> fast loss convergence and good(but worse than previous case) accuracy\n",
        "lr = 0.20\n",
        "loc_con_model = locally_connected_model(lr, momentum, img_h, img_w, initializer)\n",
        "loc_con_model.fit(train_data, train_labels, batch_size=batch_size, epochs=epochs, validation_data=(test_data, test_labels))"
      ],
      "execution_count": null,
      "outputs": [
        {
          "output_type": "stream",
          "text": [
            "Epoch 1/15\n",
            "114/114 [==============================] - 9s 29ms/step - loss: 0.8583 - accuracy: 0.7205 - val_loss: 0.5070 - val_accuracy: 0.8779\n",
            "Epoch 2/15\n",
            "114/114 [==============================] - 1s 13ms/step - loss: 0.3453 - accuracy: 0.9088 - val_loss: 0.3533 - val_accuracy: 0.9163\n",
            "Epoch 3/15\n",
            "114/114 [==============================] - 1s 13ms/step - loss: 0.1621 - accuracy: 0.9586 - val_loss: 0.5756 - val_accuracy: 0.8869\n",
            "Epoch 4/15\n",
            "114/114 [==============================] - 1s 13ms/step - loss: 0.3611 - accuracy: 0.9165 - val_loss: 1.3459 - val_accuracy: 0.7240\n",
            "Epoch 5/15\n",
            "114/114 [==============================] - 1s 13ms/step - loss: 1.1659 - accuracy: 0.6753 - val_loss: 1.9849 - val_accuracy: 0.3059\n",
            "Epoch 6/15\n",
            "114/114 [==============================] - 1s 13ms/step - loss: 2.0065 - accuracy: 0.2961 - val_loss: 2.2690 - val_accuracy: 0.1789\n",
            "Epoch 7/15\n",
            "114/114 [==============================] - 1s 13ms/step - loss: 2.2842 - accuracy: 0.1572 - val_loss: 2.2746 - val_accuracy: 0.1315\n",
            "Epoch 8/15\n",
            "114/114 [==============================] - 1s 13ms/step - loss: 2.2730 - accuracy: 0.1615 - val_loss: 2.2721 - val_accuracy: 0.1315\n",
            "Epoch 9/15\n",
            "114/114 [==============================] - 1s 13ms/step - loss: 2.2758 - accuracy: 0.1643 - val_loss: 2.2758 - val_accuracy: 0.1315\n",
            "Epoch 10/15\n",
            "114/114 [==============================] - 1s 13ms/step - loss: 2.2770 - accuracy: 0.1601 - val_loss: 2.2677 - val_accuracy: 0.1789\n",
            "Epoch 11/15\n",
            "114/114 [==============================] - 1s 13ms/step - loss: 2.2776 - accuracy: 0.1603 - val_loss: 2.2854 - val_accuracy: 0.1315\n",
            "Epoch 12/15\n",
            "114/114 [==============================] - 1s 13ms/step - loss: 2.2818 - accuracy: 0.1531 - val_loss: 2.2700 - val_accuracy: 0.1789\n",
            "Epoch 13/15\n",
            "114/114 [==============================] - 1s 13ms/step - loss: 2.2803 - accuracy: 0.1507 - val_loss: 2.2693 - val_accuracy: 0.1789\n",
            "Epoch 14/15\n",
            "114/114 [==============================] - 1s 13ms/step - loss: 2.2766 - accuracy: 0.1619 - val_loss: 2.2711 - val_accuracy: 0.1789\n",
            "Epoch 15/15\n",
            "114/114 [==============================] - 1s 13ms/step - loss: 2.2781 - accuracy: 0.1656 - val_loss: 2.2685 - val_accuracy: 0.1789\n"
          ],
          "name": "stdout"
        },
        {
          "output_type": "execute_result",
          "data": {
            "text/plain": [
              "<tensorflow.python.keras.callbacks.History at 0x7f2d40eee210>"
            ]
          },
          "metadata": {
            "tags": []
          },
          "execution_count": 30
        }
      ]
    },
    {
      "cell_type": "markdown",
      "metadata": {
        "id": "52VV79SBLN1l"
      },
      "source": [
        "###### Model 3: Convolutional Model"
      ]
    },
    {
      "cell_type": "code",
      "metadata": {
        "id": "iQZOCXDFLajr"
      },
      "source": [
        "# set best initializer for Model 2\n",
        "initializer = \"HeUniform\""
      ],
      "execution_count": null,
      "outputs": []
    },
    {
      "cell_type": "code",
      "metadata": {
        "colab": {
          "base_uri": "https://localhost:8080/"
        },
        "id": "jgQYI-v2LN1q",
        "outputId": "d9b5b7f1-9f32-40dd-c6ac-a98f20071ad7"
      },
      "source": [
        "# define initializer --> slow loss convergence and poor accuracy\n",
        "lr = 1e-6\n",
        "conv_model = conv_model(lr, momentum, img_h, img_w, initializer)\n",
        "conv_model.fit(train_data, train_labels, batch_size=batch_size, epochs=epochs, validation_data=(test_data, test_labels))"
      ],
      "execution_count": null,
      "outputs": [
        {
          "output_type": "stream",
          "text": [
            "Epoch 1/15\n",
            "114/114 [==============================] - 1s 5ms/step - loss: 2.6869 - accuracy: 0.0572 - val_loss: 2.6282 - val_accuracy: 0.0548\n",
            "Epoch 2/15\n",
            "114/114 [==============================] - 0s 4ms/step - loss: 2.5937 - accuracy: 0.0643 - val_loss: 2.5596 - val_accuracy: 0.0638\n",
            "Epoch 3/15\n",
            "114/114 [==============================] - 0s 4ms/step - loss: 2.5285 - accuracy: 0.0697 - val_loss: 2.5031 - val_accuracy: 0.0698\n",
            "Epoch 4/15\n",
            "114/114 [==============================] - 0s 4ms/step - loss: 2.4735 - accuracy: 0.0843 - val_loss: 2.4568 - val_accuracy: 0.0797\n",
            "Epoch 5/15\n",
            "114/114 [==============================] - 0s 4ms/step - loss: 2.4280 - accuracy: 0.0895 - val_loss: 2.4174 - val_accuracy: 0.1031\n",
            "Epoch 6/15\n",
            "114/114 [==============================] - 0s 4ms/step - loss: 2.3932 - accuracy: 0.1158 - val_loss: 2.3834 - val_accuracy: 0.1236\n",
            "Epoch 7/15\n",
            "114/114 [==============================] - 0s 4ms/step - loss: 2.3410 - accuracy: 0.1381 - val_loss: 2.3534 - val_accuracy: 0.1574\n",
            "Epoch 8/15\n",
            "114/114 [==============================] - 0s 4ms/step - loss: 2.3284 - accuracy: 0.1712 - val_loss: 2.3261 - val_accuracy: 0.1898\n",
            "Epoch 9/15\n",
            "114/114 [==============================] - 0s 4ms/step - loss: 2.2939 - accuracy: 0.2054 - val_loss: 2.3016 - val_accuracy: 0.2162\n",
            "Epoch 10/15\n",
            "114/114 [==============================] - 0s 4ms/step - loss: 2.2791 - accuracy: 0.2191 - val_loss: 2.2791 - val_accuracy: 0.2412\n",
            "Epoch 11/15\n",
            "114/114 [==============================] - 0s 4ms/step - loss: 2.2609 - accuracy: 0.2346 - val_loss: 2.2582 - val_accuracy: 0.2606\n",
            "Epoch 12/15\n",
            "114/114 [==============================] - 0s 4ms/step - loss: 2.2168 - accuracy: 0.2703 - val_loss: 2.2387 - val_accuracy: 0.2740\n",
            "Epoch 13/15\n",
            "114/114 [==============================] - 0s 4ms/step - loss: 2.2140 - accuracy: 0.2720 - val_loss: 2.2202 - val_accuracy: 0.2880\n",
            "Epoch 14/15\n",
            "114/114 [==============================] - 0s 4ms/step - loss: 2.1957 - accuracy: 0.2888 - val_loss: 2.2028 - val_accuracy: 0.2995\n",
            "Epoch 15/15\n",
            "114/114 [==============================] - 0s 4ms/step - loss: 2.1762 - accuracy: 0.3017 - val_loss: 2.1860 - val_accuracy: 0.3099\n"
          ],
          "name": "stdout"
        },
        {
          "output_type": "execute_result",
          "data": {
            "text/plain": [
              "<tensorflow.python.keras.callbacks.History at 0x7f2d3b76d410>"
            ]
          },
          "metadata": {
            "tags": []
          },
          "execution_count": 32
        }
      ]
    },
    {
      "cell_type": "code",
      "metadata": {
        "id": "jMtCoiZMLN19"
      },
      "source": [
        "# redefine model to avoid errors\n",
        "\n",
        "def conv_model(lr_val, momentum_val, img_h, img_w, initializer):\n",
        "  model = Sequential()\n",
        "  model.add(InputLayer(input_shape=(img_h, img_w, 1)))\n",
        "  model.add(Conv2D(64, (3, 3), activation='relu', kernel_initializer=initializer))\n",
        "  model.add(Conv2D(32, (3, 3), activation='relu', kernel_initializer=initializer))\n",
        "  model.add(Conv2D(32, (3, 3), activation='relu', kernel_initializer=initializer))\n",
        "  model.add(Flatten())\n",
        "  model.add(Dense(64, activation='relu', kernel_initializer=initializer))\n",
        "  model.add(Dense(10, activation='softmax'))\n",
        "  # compile model\n",
        "  opt = SGD(lr=lr_val, momentum=momentum_val)\n",
        "  model.compile(optimizer=opt, loss='categorical_crossentropy', metrics=['accuracy'])\n",
        "  return model"
      ],
      "execution_count": null,
      "outputs": []
    },
    {
      "cell_type": "code",
      "metadata": {
        "colab": {
          "base_uri": "https://localhost:8080/"
        },
        "id": "8-Zcek28LN1-",
        "outputId": "698b884c-f619-46e2-f73d-1144bbcaa45d"
      },
      "source": [
        "# define initializer --> fast loss convergence and good accuracy\n",
        "lr = 0.01\n",
        "conv_model = conv_model(lr, momentum, img_h, img_w, initializer)\n",
        "conv_model.fit(train_data, train_labels, batch_size=batch_size, epochs=epochs, validation_data=(test_data, test_labels))"
      ],
      "execution_count": null,
      "outputs": [
        {
          "output_type": "stream",
          "text": [
            "Epoch 1/15\n",
            "114/114 [==============================] - 1s 5ms/step - loss: 0.8058 - accuracy: 0.7326 - val_loss: 0.2505 - val_accuracy: 0.9352\n",
            "Epoch 2/15\n",
            "114/114 [==============================] - 0s 4ms/step - loss: 0.0836 - accuracy: 0.9767 - val_loss: 0.2319 - val_accuracy: 0.9477\n",
            "Epoch 3/15\n",
            "114/114 [==============================] - 0s 4ms/step - loss: 0.0500 - accuracy: 0.9857 - val_loss: 0.2175 - val_accuracy: 0.9432\n",
            "Epoch 4/15\n",
            "114/114 [==============================] - 0s 4ms/step - loss: 0.0204 - accuracy: 0.9950 - val_loss: 0.2115 - val_accuracy: 0.9462\n",
            "Epoch 5/15\n",
            "114/114 [==============================] - 0s 4ms/step - loss: 0.0144 - accuracy: 0.9972 - val_loss: 0.2202 - val_accuracy: 0.9581\n",
            "Epoch 6/15\n",
            "114/114 [==============================] - 0s 4ms/step - loss: 0.0059 - accuracy: 0.9990 - val_loss: 0.2363 - val_accuracy: 0.9567\n",
            "Epoch 7/15\n",
            "114/114 [==============================] - 0s 4ms/step - loss: 0.0037 - accuracy: 0.9997 - val_loss: 0.2279 - val_accuracy: 0.9557\n",
            "Epoch 8/15\n",
            "114/114 [==============================] - 0s 4ms/step - loss: 0.0052 - accuracy: 0.9989 - val_loss: 0.2312 - val_accuracy: 0.9586\n",
            "Epoch 9/15\n",
            "114/114 [==============================] - 0s 4ms/step - loss: 0.0050 - accuracy: 0.9990 - val_loss: 0.2225 - val_accuracy: 0.9581\n",
            "Epoch 10/15\n",
            "114/114 [==============================] - 0s 4ms/step - loss: 0.0019 - accuracy: 0.9994 - val_loss: 0.2340 - val_accuracy: 0.9567\n",
            "Epoch 11/15\n",
            "114/114 [==============================] - 0s 4ms/step - loss: 0.0077 - accuracy: 0.9989 - val_loss: 0.2210 - val_accuracy: 0.9606\n",
            "Epoch 12/15\n",
            "114/114 [==============================] - 0s 4ms/step - loss: 0.0030 - accuracy: 0.9996 - val_loss: 0.2405 - val_accuracy: 0.9576\n",
            "Epoch 13/15\n",
            "114/114 [==============================] - 0s 4ms/step - loss: 0.0015 - accuracy: 0.9998 - val_loss: 0.2339 - val_accuracy: 0.9591\n",
            "Epoch 14/15\n",
            "114/114 [==============================] - 0s 4ms/step - loss: 0.0012 - accuracy: 1.0000 - val_loss: 0.2340 - val_accuracy: 0.9601\n",
            "Epoch 15/15\n",
            "114/114 [==============================] - 0s 4ms/step - loss: 0.0013 - accuracy: 0.9999 - val_loss: 0.2471 - val_accuracy: 0.9581\n"
          ],
          "name": "stdout"
        },
        {
          "output_type": "execute_result",
          "data": {
            "text/plain": [
              "<tensorflow.python.keras.callbacks.History at 0x7f2d3ae15c90>"
            ]
          },
          "metadata": {
            "tags": []
          },
          "execution_count": 34
        }
      ]
    },
    {
      "cell_type": "code",
      "metadata": {
        "id": "O9Eec7fpLN1_"
      },
      "source": [
        "# redefine model to avoid errors\n",
        "\n",
        "def conv_model(lr_val, momentum_val, img_h, img_w, initializer):\n",
        "  model = Sequential()\n",
        "  model.add(InputLayer(input_shape=(img_h, img_w, 1)))\n",
        "  model.add(Conv2D(64, (3, 3), activation='relu', kernel_initializer=initializer))\n",
        "  model.add(Conv2D(32, (3, 3), activation='relu', kernel_initializer=initializer))\n",
        "  model.add(Conv2D(32, (3, 3), activation='relu', kernel_initializer=initializer))\n",
        "  model.add(Flatten())\n",
        "  model.add(Dense(64, activation='relu', kernel_initializer=initializer))\n",
        "  model.add(Dense(10, activation='softmax'))\n",
        "  # compile model\n",
        "  opt = SGD(lr=lr_val, momentum=momentum_val)\n",
        "  model.compile(optimizer=opt, loss='categorical_crossentropy', metrics=['accuracy'])\n",
        "  return model"
      ],
      "execution_count": null,
      "outputs": []
    },
    {
      "cell_type": "code",
      "metadata": {
        "colab": {
          "base_uri": "https://localhost:8080/"
        },
        "id": "QIz5FPEGLN2A",
        "outputId": "53246acd-a929-4e4f-bd03-3f99d971db4a"
      },
      "source": [
        "# define initializer --> fast loss convergence and good(but worse than previous case) accuracy\n",
        "lr = 0.092\n",
        "conv_model = conv_model(lr, momentum, img_h, img_w, initializer)\n",
        "conv_model.fit(train_data, train_labels, batch_size=batch_size, epochs=epochs, validation_data=(test_data, test_labels))"
      ],
      "execution_count": null,
      "outputs": [
        {
          "output_type": "stream",
          "text": [
            "Epoch 1/15\n",
            "114/114 [==============================] - 1s 5ms/step - loss: 1.9160 - accuracy: 0.5018 - val_loss: 0.6043 - val_accuracy: 0.8221\n",
            "Epoch 2/15\n",
            "114/114 [==============================] - 0s 4ms/step - loss: 0.3455 - accuracy: 0.9012 - val_loss: 0.6012 - val_accuracy: 0.8660\n",
            "Epoch 3/15\n",
            "114/114 [==============================] - 0s 4ms/step - loss: 0.3419 - accuracy: 0.8979 - val_loss: 0.4417 - val_accuracy: 0.8869\n",
            "Epoch 4/15\n",
            "114/114 [==============================] - 0s 4ms/step - loss: 0.1858 - accuracy: 0.9497 - val_loss: 0.4070 - val_accuracy: 0.9013\n",
            "Epoch 5/15\n",
            "114/114 [==============================] - 0s 4ms/step - loss: 0.1374 - accuracy: 0.9586 - val_loss: 0.3745 - val_accuracy: 0.9098\n",
            "Epoch 6/15\n",
            "114/114 [==============================] - 0s 4ms/step - loss: 0.1598 - accuracy: 0.9567 - val_loss: 0.4863 - val_accuracy: 0.9033\n",
            "Epoch 7/15\n",
            "114/114 [==============================] - 0s 4ms/step - loss: 0.1252 - accuracy: 0.9634 - val_loss: 0.4582 - val_accuracy: 0.9218\n",
            "Epoch 8/15\n",
            "114/114 [==============================] - 0s 4ms/step - loss: 0.0902 - accuracy: 0.9752 - val_loss: 0.4608 - val_accuracy: 0.9253\n",
            "Epoch 9/15\n",
            "114/114 [==============================] - 0s 4ms/step - loss: 0.0911 - accuracy: 0.9747 - val_loss: 0.4645 - val_accuracy: 0.9168\n",
            "Epoch 10/15\n",
            "114/114 [==============================] - 0s 4ms/step - loss: 0.1055 - accuracy: 0.9746 - val_loss: 0.5756 - val_accuracy: 0.9248\n",
            "Epoch 11/15\n",
            "114/114 [==============================] - 0s 4ms/step - loss: 0.0955 - accuracy: 0.9746 - val_loss: 0.5150 - val_accuracy: 0.9342\n",
            "Epoch 12/15\n",
            "114/114 [==============================] - 0s 4ms/step - loss: 0.0895 - accuracy: 0.9770 - val_loss: 0.8254 - val_accuracy: 0.9073\n",
            "Epoch 13/15\n",
            "114/114 [==============================] - 0s 4ms/step - loss: 0.2081 - accuracy: 0.9562 - val_loss: 0.5466 - val_accuracy: 0.8744\n",
            "Epoch 14/15\n",
            "114/114 [==============================] - 0s 4ms/step - loss: 0.1249 - accuracy: 0.9703 - val_loss: 0.3904 - val_accuracy: 0.9218\n",
            "Epoch 15/15\n",
            "114/114 [==============================] - 0s 4ms/step - loss: 0.0611 - accuracy: 0.9820 - val_loss: 0.4320 - val_accuracy: 0.9292\n"
          ],
          "name": "stdout"
        },
        {
          "output_type": "execute_result",
          "data": {
            "text/plain": [
              "<tensorflow.python.keras.callbacks.History at 0x7f2d3ac77b10>"
            ]
          },
          "metadata": {
            "tags": []
          },
          "execution_count": 36
        }
      ]
    },
    {
      "cell_type": "code",
      "metadata": {
        "id": "F-BoGph8LN2B"
      },
      "source": [
        "# redefine model to avoid errors\n",
        "\n",
        "def conv_model(lr_val, momentum_val, img_h, img_w, initializer):\n",
        "  model = Sequential()\n",
        "  model.add(InputLayer(input_shape=(img_h, img_w, 1)))\n",
        "  model.add(Conv2D(64, (3, 3), activation='relu', kernel_initializer=initializer))\n",
        "  model.add(Conv2D(32, (3, 3), activation='relu', kernel_initializer=initializer))\n",
        "  model.add(Conv2D(32, (3, 3), activation='relu', kernel_initializer=initializer))\n",
        "  model.add(Flatten())\n",
        "  model.add(Dense(64, activation='relu', kernel_initializer=initializer))\n",
        "  model.add(Dense(10, activation='softmax'))\n",
        "  # compile model\n",
        "  opt = SGD(lr=lr_val, momentum=momentum_val)\n",
        "  model.compile(optimizer=opt, loss='categorical_crossentropy', metrics=['accuracy'])\n",
        "  return model"
      ],
      "execution_count": null,
      "outputs": []
    },
    {
      "cell_type": "markdown",
      "metadata": {
        "id": "N_4mg5l-W3y8"
      },
      "source": [
        "#### Experiment 3: Effect of Batch Size on Batch Normalization for Convolutional Network"
      ]
    },
    {
      "cell_type": "markdown",
      "metadata": {
        "id": "EiBsEaB4Szkn"
      },
      "source": [
        "Increasing batch size brings the sampled values closer to trained population values. Increasing batch size improves batch normalization. With a batch size that is too small the network is chasing a moving target. This change in the distribution of inputs to layers in the network is referred to the technical name “internal covariate shift.”"
      ]
    },
    {
      "cell_type": "code",
      "metadata": {
        "id": "rhWX_xqpGDZn"
      },
      "source": [
        "# Experiment 3 fixed hyper-params --> with best values for CNN\n",
        "epochs = 15\n",
        "lr = 0.01\n",
        "initializer = 'HeUniform'\n",
        "momentum = 0.9"
      ],
      "execution_count": null,
      "outputs": []
    },
    {
      "cell_type": "code",
      "metadata": {
        "colab": {
          "base_uri": "https://localhost:8080/"
        },
        "id": "3ijq34ElXU_h",
        "outputId": "73285eee-4c72-4a2a-8b62-f0ec6139c7b2"
      },
      "source": [
        "# ineffective batch size\n",
        "batch_size = 1\n",
        "conv_model = conv_model(lr, momentum, img_h, img_w, initializer)\n",
        "conv_model.fit(train_data, train_labels, batch_size=batch_size, epochs=epochs, validation_data=(test_data, test_labels))"
      ],
      "execution_count": null,
      "outputs": [
        {
          "output_type": "stream",
          "text": [
            "Epoch 1/15\n",
            "7291/7291 [==============================] - 22s 3ms/step - loss: 2.3019 - accuracy: 0.1679 - val_loss: 2.2790 - val_accuracy: 0.1789\n",
            "Epoch 2/15\n",
            "7291/7291 [==============================] - 21s 3ms/step - loss: 2.2986 - accuracy: 0.1476 - val_loss: 2.2726 - val_accuracy: 0.1789\n",
            "Epoch 3/15\n",
            "7291/7291 [==============================] - 21s 3ms/step - loss: 2.2942 - accuracy: 0.1435 - val_loss: 2.2889 - val_accuracy: 0.1789\n",
            "Epoch 4/15\n",
            "7291/7291 [==============================] - 21s 3ms/step - loss: 2.2901 - accuracy: 0.1584 - val_loss: 2.2747 - val_accuracy: 0.1789\n",
            "Epoch 5/15\n",
            "7291/7291 [==============================] - 21s 3ms/step - loss: 2.2904 - accuracy: 0.1573 - val_loss: 2.3103 - val_accuracy: 0.0987\n",
            "Epoch 6/15\n",
            "7291/7291 [==============================] - 21s 3ms/step - loss: 2.2922 - accuracy: 0.1559 - val_loss: 2.2878 - val_accuracy: 0.1315\n",
            "Epoch 7/15\n",
            "7291/7291 [==============================] - 22s 3ms/step - loss: 2.2906 - accuracy: 0.1482 - val_loss: 2.2841 - val_accuracy: 0.1315\n",
            "Epoch 8/15\n",
            "7291/7291 [==============================] - 21s 3ms/step - loss: 2.2980 - accuracy: 0.1526 - val_loss: 2.3197 - val_accuracy: 0.1789\n",
            "Epoch 9/15\n",
            "7291/7291 [==============================] - 21s 3ms/step - loss: 2.2967 - accuracy: 0.1536 - val_loss: 2.2780 - val_accuracy: 0.1789\n",
            "Epoch 10/15\n",
            "7291/7291 [==============================] - 21s 3ms/step - loss: 2.2909 - accuracy: 0.1503 - val_loss: 2.2926 - val_accuracy: 0.1315\n",
            "Epoch 11/15\n",
            "7291/7291 [==============================] - 21s 3ms/step - loss: 2.2967 - accuracy: 0.1466 - val_loss: 2.2808 - val_accuracy: 0.1315\n",
            "Epoch 12/15\n",
            "7291/7291 [==============================] - 21s 3ms/step - loss: 2.2968 - accuracy: 0.1470 - val_loss: 2.2977 - val_accuracy: 0.1789\n",
            "Epoch 13/15\n",
            "7291/7291 [==============================] - 22s 3ms/step - loss: 2.2888 - accuracy: 0.1519 - val_loss: 2.2742 - val_accuracy: 0.1789\n",
            "Epoch 14/15\n",
            "7291/7291 [==============================] - 21s 3ms/step - loss: 2.2946 - accuracy: 0.1468 - val_loss: 2.2855 - val_accuracy: 0.1789\n",
            "Epoch 15/15\n",
            "7291/7291 [==============================] - 21s 3ms/step - loss: 2.2906 - accuracy: 0.1531 - val_loss: 2.2747 - val_accuracy: 0.1789\n"
          ],
          "name": "stdout"
        },
        {
          "output_type": "execute_result",
          "data": {
            "text/plain": [
              "<tensorflow.python.keras.callbacks.History at 0x7f2d3aab1bd0>"
            ]
          },
          "metadata": {
            "tags": []
          },
          "execution_count": 39
        }
      ]
    },
    {
      "cell_type": "code",
      "metadata": {
        "id": "5YDaRvJqZMB-"
      },
      "source": [
        "# redefine model to avoid errors\n",
        "\n",
        "def conv_model(lr_val, momentum_val, img_h, img_w, initializer):\n",
        "  model = Sequential()\n",
        "  model.add(InputLayer(input_shape=(img_h, img_w, 1)))\n",
        "  model.add(Conv2D(64, (3, 3), activation='relu', kernel_initializer=initializer))\n",
        "  model.add(Conv2D(32, (3, 3), activation='relu', kernel_initializer=initializer))\n",
        "  model.add(Conv2D(32, (3, 3), activation='relu', kernel_initializer=initializer))\n",
        "  model.add(Flatten())\n",
        "  model.add(Dense(64, activation='relu', kernel_initializer=initializer))\n",
        "  model.add(Dense(10, activation='softmax'))\n",
        "  # compile model\n",
        "  opt = SGD(lr=lr_val, momentum=momentum_val)\n",
        "  model.compile(optimizer=opt, loss='categorical_crossentropy', metrics=['accuracy'])\n",
        "  return model"
      ],
      "execution_count": null,
      "outputs": []
    },
    {
      "cell_type": "code",
      "metadata": {
        "colab": {
          "base_uri": "https://localhost:8080/"
        },
        "id": "-sMaIljIXdUR",
        "outputId": "b491b505-fe50-4f66-810f-98fc8b3a29b2"
      },
      "source": [
        "# effective batch size\n",
        "batch_size = 128\n",
        "conv_model = conv_model(lr, momentum, img_h, img_w, initializer)\n",
        "conv_model.fit(train_data, train_labels, batch_size=batch_size, epochs=epochs, validation_data=(test_data, test_labels))"
      ],
      "execution_count": null,
      "outputs": [
        {
          "output_type": "stream",
          "text": [
            "Epoch 1/15\n",
            "57/57 [==============================] - 1s 8ms/step - loss: 1.1888 - accuracy: 0.6158 - val_loss: 0.3067 - val_accuracy: 0.9173\n",
            "Epoch 2/15\n",
            "57/57 [==============================] - 0s 4ms/step - loss: 0.1194 - accuracy: 0.9649 - val_loss: 0.2057 - val_accuracy: 0.9427\n",
            "Epoch 3/15\n",
            "57/57 [==============================] - 0s 5ms/step - loss: 0.0627 - accuracy: 0.9842 - val_loss: 0.1991 - val_accuracy: 0.9497\n",
            "Epoch 4/15\n",
            "57/57 [==============================] - 0s 4ms/step - loss: 0.0310 - accuracy: 0.9913 - val_loss: 0.2153 - val_accuracy: 0.9527\n",
            "Epoch 5/15\n",
            "57/57 [==============================] - 0s 4ms/step - loss: 0.0246 - accuracy: 0.9935 - val_loss: 0.2144 - val_accuracy: 0.9542\n",
            "Epoch 6/15\n",
            "57/57 [==============================] - 0s 4ms/step - loss: 0.0145 - accuracy: 0.9972 - val_loss: 0.2437 - val_accuracy: 0.9492\n",
            "Epoch 7/15\n",
            "57/57 [==============================] - 0s 4ms/step - loss: 0.0135 - accuracy: 0.9975 - val_loss: 0.2337 - val_accuracy: 0.9552\n",
            "Epoch 8/15\n",
            "57/57 [==============================] - 0s 4ms/step - loss: 0.0075 - accuracy: 0.9982 - val_loss: 0.2402 - val_accuracy: 0.9591\n",
            "Epoch 9/15\n",
            "57/57 [==============================] - 0s 4ms/step - loss: 0.0044 - accuracy: 0.9995 - val_loss: 0.2457 - val_accuracy: 0.9576\n",
            "Epoch 10/15\n",
            "57/57 [==============================] - 0s 4ms/step - loss: 0.0049 - accuracy: 0.9988 - val_loss: 0.2415 - val_accuracy: 0.9576\n",
            "Epoch 11/15\n",
            "57/57 [==============================] - 0s 4ms/step - loss: 0.0064 - accuracy: 0.9989 - val_loss: 0.2679 - val_accuracy: 0.9557\n",
            "Epoch 12/15\n",
            "57/57 [==============================] - 0s 4ms/step - loss: 0.0033 - accuracy: 0.9995 - val_loss: 0.2510 - val_accuracy: 0.9606\n",
            "Epoch 13/15\n",
            "57/57 [==============================] - 0s 4ms/step - loss: 0.0031 - accuracy: 0.9996 - val_loss: 0.2620 - val_accuracy: 0.9611\n",
            "Epoch 14/15\n",
            "57/57 [==============================] - 0s 4ms/step - loss: 0.0036 - accuracy: 0.9996 - val_loss: 0.2691 - val_accuracy: 0.9596\n",
            "Epoch 15/15\n",
            "57/57 [==============================] - 0s 4ms/step - loss: 8.2583e-04 - accuracy: 1.0000 - val_loss: 0.2732 - val_accuracy: 0.9621\n"
          ],
          "name": "stdout"
        },
        {
          "output_type": "execute_result",
          "data": {
            "text/plain": [
              "<tensorflow.python.keras.callbacks.History at 0x7f2d3a95b9d0>"
            ]
          },
          "metadata": {
            "tags": []
          },
          "execution_count": 41
        }
      ]
    },
    {
      "cell_type": "markdown",
      "metadata": {
        "id": "-CaIbmWRZb77"
      },
      "source": [
        "#### Experiment 4: Effect of Momentum on Convolutional Network Training"
      ]
    },
    {
      "cell_type": "markdown",
      "metadata": {
        "id": "6JBC38bpWQjk"
      },
      "source": [
        "Different momentum values are contrasted on the convolutional neural network. To exaggerate the differences the values 0.01, 0.50 and 0.99 are used. With a higher momentum, a marginally better performance was observed. "
      ]
    },
    {
      "cell_type": "code",
      "metadata": {
        "id": "-rn6n_58Zs7x"
      },
      "source": [
        "# Experiment 4 fixed hyper-params --> with best values for CNN\n",
        "epochs = 15\n",
        "lr = 0.01\n",
        "batch_size = 128\n",
        "initializer = 'HeUniform'"
      ],
      "execution_count": null,
      "outputs": []
    },
    {
      "cell_type": "code",
      "metadata": {
        "id": "UTVxX62GZoDa"
      },
      "source": [
        "# redefine model to avoid errors\n",
        "\n",
        "def conv_model(lr_val, momentum_val, img_h, img_w, initializer):\n",
        "  model = Sequential()\n",
        "  model.add(InputLayer(input_shape=(img_h, img_w, 1)))\n",
        "  model.add(Conv2D(64, (3, 3), activation='relu', kernel_initializer=initializer))\n",
        "  model.add(Conv2D(32, (3, 3), activation='relu', kernel_initializer=initializer))\n",
        "  model.add(Conv2D(32, (3, 3), activation='relu', kernel_initializer=initializer))\n",
        "  model.add(Flatten())\n",
        "  model.add(Dense(64, activation='relu', kernel_initializer=initializer))\n",
        "  model.add(Dense(10, activation='softmax'))\n",
        "  # compile model\n",
        "  opt = SGD(lr=lr_val, momentum=momentum_val)\n",
        "  model.compile(optimizer=opt, loss='categorical_crossentropy', metrics=['accuracy'])\n",
        "  return model"
      ],
      "execution_count": null,
      "outputs": []
    },
    {
      "cell_type": "code",
      "metadata": {
        "colab": {
          "base_uri": "https://localhost:8080/"
        },
        "id": "uDcVOigJZzMm",
        "outputId": "d8f4c5f0-7e34-4e19-8a04-c799cd67737e"
      },
      "source": [
        "# momentum value 1\n",
        "momentum = 0.01\n",
        "conv_model = conv_model(lr, momentum, img_h, img_w, initializer)\n",
        "conv_model.fit(train_data, train_labels, batch_size=batch_size, epochs=epochs, validation_data=(test_data, test_labels))"
      ],
      "execution_count": null,
      "outputs": [
        {
          "output_type": "stream",
          "text": [
            "Epoch 1/15\n",
            "57/57 [==============================] - 1s 7ms/step - loss: 1.3454 - accuracy: 0.5740 - val_loss: 0.5564 - val_accuracy: 0.8236\n",
            "Epoch 2/15\n",
            "57/57 [==============================] - 0s 4ms/step - loss: 0.3314 - accuracy: 0.8925 - val_loss: 0.3810 - val_accuracy: 0.8874\n",
            "Epoch 3/15\n",
            "57/57 [==============================] - 0s 4ms/step - loss: 0.2365 - accuracy: 0.9321 - val_loss: 0.3410 - val_accuracy: 0.8994\n",
            "Epoch 4/15\n",
            "57/57 [==============================] - 0s 5ms/step - loss: 0.1829 - accuracy: 0.9467 - val_loss: 0.3093 - val_accuracy: 0.9068\n",
            "Epoch 5/15\n",
            "57/57 [==============================] - 0s 4ms/step - loss: 0.1528 - accuracy: 0.9552 - val_loss: 0.3121 - val_accuracy: 0.9138\n",
            "Epoch 6/15\n",
            "57/57 [==============================] - 0s 4ms/step - loss: 0.1209 - accuracy: 0.9657 - val_loss: 0.2606 - val_accuracy: 0.9278\n",
            "Epoch 7/15\n",
            "57/57 [==============================] - 0s 4ms/step - loss: 0.1089 - accuracy: 0.9733 - val_loss: 0.2547 - val_accuracy: 0.9287\n",
            "Epoch 8/15\n",
            "57/57 [==============================] - 0s 4ms/step - loss: 0.0935 - accuracy: 0.9711 - val_loss: 0.2399 - val_accuracy: 0.9327\n",
            "Epoch 9/15\n",
            "57/57 [==============================] - 0s 4ms/step - loss: 0.0776 - accuracy: 0.9770 - val_loss: 0.2287 - val_accuracy: 0.9357\n",
            "Epoch 10/15\n",
            "57/57 [==============================] - 0s 4ms/step - loss: 0.0698 - accuracy: 0.9803 - val_loss: 0.2339 - val_accuracy: 0.9362\n",
            "Epoch 11/15\n",
            "57/57 [==============================] - 0s 4ms/step - loss: 0.0576 - accuracy: 0.9831 - val_loss: 0.2305 - val_accuracy: 0.9377\n",
            "Epoch 12/15\n",
            "57/57 [==============================] - 0s 4ms/step - loss: 0.0538 - accuracy: 0.9873 - val_loss: 0.2378 - val_accuracy: 0.9362\n",
            "Epoch 13/15\n",
            "57/57 [==============================] - 0s 4ms/step - loss: 0.0502 - accuracy: 0.9887 - val_loss: 0.2225 - val_accuracy: 0.9372\n",
            "Epoch 14/15\n",
            "57/57 [==============================] - 0s 5ms/step - loss: 0.0591 - accuracy: 0.9838 - val_loss: 0.2313 - val_accuracy: 0.9392\n",
            "Epoch 15/15\n",
            "57/57 [==============================] - 0s 4ms/step - loss: 0.0454 - accuracy: 0.9884 - val_loss: 0.2331 - val_accuracy: 0.9402\n"
          ],
          "name": "stdout"
        },
        {
          "output_type": "execute_result",
          "data": {
            "text/plain": [
              "<tensorflow.python.keras.callbacks.History at 0x7f2d36720b10>"
            ]
          },
          "metadata": {
            "tags": []
          },
          "execution_count": 44
        }
      ]
    },
    {
      "cell_type": "code",
      "metadata": {
        "id": "nF1poFi-aDS4"
      },
      "source": [
        "# redefine model to avoid errors\n",
        "\n",
        "def conv_model(lr_val, momentum_val, img_h, img_w, initializer):\n",
        "  model = Sequential()\n",
        "  model.add(InputLayer(input_shape=(img_h, img_w, 1)))\n",
        "  model.add(Conv2D(64, (3, 3), activation='relu', kernel_initializer=initializer))\n",
        "  model.add(Conv2D(32, (3, 3), activation='relu', kernel_initializer=initializer))\n",
        "  model.add(Conv2D(32, (3, 3), activation='relu', kernel_initializer=initializer))\n",
        "  model.add(Flatten())\n",
        "  model.add(Dense(64, activation='relu', kernel_initializer=initializer))\n",
        "  model.add(Dense(10, activation='softmax'))\n",
        "  # compile model\n",
        "  opt = SGD(lr=lr_val, momentum=momentum_val)\n",
        "  model.compile(optimizer=opt, loss='categorical_crossentropy', metrics=['accuracy'])\n",
        "  return model"
      ],
      "execution_count": null,
      "outputs": []
    },
    {
      "cell_type": "code",
      "metadata": {
        "colab": {
          "base_uri": "https://localhost:8080/"
        },
        "id": "J7Jn3JfBaF8V",
        "outputId": "cd4f049f-5baa-429f-84be-9f451182e286"
      },
      "source": [
        "# momentum value 2\n",
        "momentum = 0.50\n",
        "conv_model = conv_model(lr, momentum, img_h, img_w, initializer)\n",
        "conv_model.fit(train_data, train_labels, batch_size=batch_size, epochs=epochs, validation_data=(test_data, test_labels))"
      ],
      "execution_count": null,
      "outputs": [
        {
          "output_type": "stream",
          "text": [
            "Epoch 1/15\n",
            "57/57 [==============================] - 1s 7ms/step - loss: 1.1253 - accuracy: 0.6323 - val_loss: 0.4372 - val_accuracy: 0.8705\n",
            "Epoch 2/15\n",
            "57/57 [==============================] - 0s 4ms/step - loss: 0.2446 - accuracy: 0.9235 - val_loss: 0.2985 - val_accuracy: 0.9193\n",
            "Epoch 3/15\n",
            "57/57 [==============================] - 0s 4ms/step - loss: 0.1640 - accuracy: 0.9571 - val_loss: 0.2651 - val_accuracy: 0.9302\n",
            "Epoch 4/15\n",
            "57/57 [==============================] - 0s 4ms/step - loss: 0.1158 - accuracy: 0.9664 - val_loss: 0.2539 - val_accuracy: 0.9362\n",
            "Epoch 5/15\n",
            "57/57 [==============================] - 0s 4ms/step - loss: 0.0855 - accuracy: 0.9750 - val_loss: 0.2422 - val_accuracy: 0.9402\n",
            "Epoch 6/15\n",
            "57/57 [==============================] - 0s 4ms/step - loss: 0.0786 - accuracy: 0.9810 - val_loss: 0.2349 - val_accuracy: 0.9412\n",
            "Epoch 7/15\n",
            "57/57 [==============================] - 0s 4ms/step - loss: 0.0580 - accuracy: 0.9829 - val_loss: 0.2493 - val_accuracy: 0.9407\n",
            "Epoch 8/15\n",
            "57/57 [==============================] - 0s 4ms/step - loss: 0.0505 - accuracy: 0.9872 - val_loss: 0.2335 - val_accuracy: 0.9432\n",
            "Epoch 9/15\n",
            "57/57 [==============================] - 0s 5ms/step - loss: 0.0386 - accuracy: 0.9903 - val_loss: 0.2329 - val_accuracy: 0.9437\n",
            "Epoch 10/15\n",
            "57/57 [==============================] - 0s 4ms/step - loss: 0.0324 - accuracy: 0.9919 - val_loss: 0.2273 - val_accuracy: 0.9452\n",
            "Epoch 11/15\n",
            "57/57 [==============================] - 0s 4ms/step - loss: 0.0283 - accuracy: 0.9937 - val_loss: 0.2258 - val_accuracy: 0.9467\n",
            "Epoch 12/15\n",
            "57/57 [==============================] - 0s 4ms/step - loss: 0.0258 - accuracy: 0.9936 - val_loss: 0.2371 - val_accuracy: 0.9442\n",
            "Epoch 13/15\n",
            "57/57 [==============================] - 0s 4ms/step - loss: 0.0240 - accuracy: 0.9947 - val_loss: 0.2349 - val_accuracy: 0.9437\n",
            "Epoch 14/15\n",
            "57/57 [==============================] - 0s 4ms/step - loss: 0.0158 - accuracy: 0.9981 - val_loss: 0.2435 - val_accuracy: 0.9447\n",
            "Epoch 15/15\n",
            "57/57 [==============================] - 0s 4ms/step - loss: 0.0139 - accuracy: 0.9978 - val_loss: 0.2307 - val_accuracy: 0.9527\n"
          ],
          "name": "stdout"
        },
        {
          "output_type": "execute_result",
          "data": {
            "text/plain": [
              "<tensorflow.python.keras.callbacks.History at 0x7f2d365cea50>"
            ]
          },
          "metadata": {
            "tags": []
          },
          "execution_count": 46
        }
      ]
    },
    {
      "cell_type": "code",
      "metadata": {
        "id": "QOvmwntgabO6"
      },
      "source": [
        "# redefine model to avoid errors\n",
        "\n",
        "def conv_model(lr_val, momentum_val, img_h, img_w, initializer):\n",
        "  model = Sequential()\n",
        "  model.add(InputLayer(input_shape=(img_h, img_w, 1)))\n",
        "  model.add(Conv2D(64, (3, 3), activation='relu', kernel_initializer=initializer))\n",
        "  model.add(Conv2D(32, (3, 3), activation='relu', kernel_initializer=initializer))\n",
        "  model.add(Conv2D(32, (3, 3), activation='relu', kernel_initializer=initializer))\n",
        "  model.add(Flatten())\n",
        "  model.add(Dense(64, activation='relu', kernel_initializer=initializer))\n",
        "  model.add(Dense(10, activation='softmax'))\n",
        "  # compile model\n",
        "  opt = SGD(lr=lr_val, momentum=momentum_val)\n",
        "  model.compile(optimizer=opt, loss='categorical_crossentropy', metrics=['accuracy'])\n",
        "  return model"
      ],
      "execution_count": null,
      "outputs": []
    },
    {
      "cell_type": "code",
      "metadata": {
        "colab": {
          "base_uri": "https://localhost:8080/"
        },
        "id": "8EK7tkCZaVhT",
        "outputId": "36810a86-de9f-4007-8a1c-8f55d6eade8c"
      },
      "source": [
        "# momentum value 3\n",
        "momentum = 0.99\n",
        "conv_model = conv_model(lr, momentum, img_h, img_w, initializer)\n",
        "conv_model.fit(train_data, train_labels, batch_size=batch_size, epochs=epochs, validation_data=(test_data, test_labels))"
      ],
      "execution_count": null,
      "outputs": [
        {
          "output_type": "stream",
          "text": [
            "Epoch 1/15\n",
            "57/57 [==============================] - 1s 7ms/step - loss: 1.1538 - accuracy: 0.6352 - val_loss: 0.5026 - val_accuracy: 0.8889\n",
            "Epoch 2/15\n",
            "57/57 [==============================] - 0s 4ms/step - loss: 0.2453 - accuracy: 0.9310 - val_loss: 0.4205 - val_accuracy: 0.9048\n",
            "Epoch 3/15\n",
            "57/57 [==============================] - 0s 4ms/step - loss: 0.1492 - accuracy: 0.9610 - val_loss: 0.3386 - val_accuracy: 0.9218\n",
            "Epoch 4/15\n",
            "57/57 [==============================] - 0s 4ms/step - loss: 0.0873 - accuracy: 0.9725 - val_loss: 0.3099 - val_accuracy: 0.9412\n",
            "Epoch 5/15\n",
            "57/57 [==============================] - 0s 4ms/step - loss: 0.0517 - accuracy: 0.9840 - val_loss: 0.4511 - val_accuracy: 0.9427\n",
            "Epoch 6/15\n",
            "57/57 [==============================] - 0s 4ms/step - loss: 0.0356 - accuracy: 0.9901 - val_loss: 0.5992 - val_accuracy: 0.9472\n",
            "Epoch 7/15\n",
            "57/57 [==============================] - 0s 4ms/step - loss: 0.0647 - accuracy: 0.9841 - val_loss: 0.5146 - val_accuracy: 0.9492\n",
            "Epoch 8/15\n",
            "57/57 [==============================] - 0s 4ms/step - loss: 0.0362 - accuracy: 0.9919 - val_loss: 0.6054 - val_accuracy: 0.9357\n",
            "Epoch 9/15\n",
            "57/57 [==============================] - 0s 4ms/step - loss: 0.0629 - accuracy: 0.9869 - val_loss: 0.4862 - val_accuracy: 0.9452\n",
            "Epoch 10/15\n",
            "57/57 [==============================] - 0s 4ms/step - loss: 0.0357 - accuracy: 0.9905 - val_loss: 0.5292 - val_accuracy: 0.9422\n",
            "Epoch 11/15\n",
            "57/57 [==============================] - 0s 5ms/step - loss: 0.0380 - accuracy: 0.9918 - val_loss: 0.5445 - val_accuracy: 0.9527\n",
            "Epoch 12/15\n",
            "57/57 [==============================] - 0s 4ms/step - loss: 0.0303 - accuracy: 0.9939 - val_loss: 0.6448 - val_accuracy: 0.9472\n",
            "Epoch 13/15\n",
            "57/57 [==============================] - 0s 4ms/step - loss: 0.0387 - accuracy: 0.9921 - val_loss: 0.6241 - val_accuracy: 0.9487\n",
            "Epoch 14/15\n",
            "57/57 [==============================] - 0s 5ms/step - loss: 0.0227 - accuracy: 0.9951 - val_loss: 0.5851 - val_accuracy: 0.9497\n",
            "Epoch 15/15\n",
            "57/57 [==============================] - 0s 4ms/step - loss: 0.0155 - accuracy: 0.9961 - val_loss: 0.7336 - val_accuracy: 0.9422\n"
          ],
          "name": "stdout"
        },
        {
          "output_type": "execute_result",
          "data": {
            "text/plain": [
              "<tensorflow.python.keras.callbacks.History at 0x7f2d364b30d0>"
            ]
          },
          "metadata": {
            "tags": []
          },
          "execution_count": 48
        }
      ]
    },
    {
      "cell_type": "markdown",
      "metadata": {
        "id": "zIqz-Cl9a4hb"
      },
      "source": [
        "###Task 3: Techniques for Improving Generalization"
      ]
    },
    {
      "cell_type": "markdown",
      "metadata": {
        "id": "W7CJ4odRlD_9"
      },
      "source": [
        "#### Method 1: Ensemble Learning"
      ]
    },
    {
      "cell_type": "markdown",
      "metadata": {
        "id": "JxMItmGDXw4e"
      },
      "source": [
        "In this framework, 20 weak learners are used and their learned values combined to make one strong learner. In this way the final strong model is resiliant and performs well. "
      ]
    },
    {
      "cell_type": "code",
      "metadata": {
        "id": "p0vsKF9jaf1F"
      },
      "source": [
        "from sklearn.tree import DecisionTreeClassifier\n",
        "from sklearn.ensemble import BaggingClassifier"
      ],
      "execution_count": null,
      "outputs": []
    },
    {
      "cell_type": "code",
      "metadata": {
        "colab": {
          "base_uri": "https://localhost:8080/"
        },
        "id": "o11A1JZ-mJ16",
        "outputId": "9e9e968c-a3b3-4a69-9ff5-b78c7c645ee5"
      },
      "source": [
        "ensemble_train_set = np.genfromtxt(\"./mnist_train.txt\")\n",
        "ensemble_test_set = np.genfromtxt(\"./mnist_test.txt\")\n",
        "\n",
        "# extract labels and data \n",
        "ensemble_train_labels = ensemble_train_set[:,0]\n",
        "ensemble_test_labels = ensemble_test_set[:,0]\n",
        "print(\"ensemble training labels shape: \", ensemble_train_labels.shape)\n",
        "print(\"ensemble testing labels shape: \", ensemble_test_labels.shape)\n",
        "\n",
        "ensemble_train_data = ensemble_train_set[:,1:]\n",
        "ensemble_test_data = ensemble_test_set[:,1:]\n",
        "print(\"ensemble training data shape: \", ensemble_train_data.shape)\n",
        "print(\"ensemble testing data shape: \", ensemble_test_data.shape)"
      ],
      "execution_count": null,
      "outputs": [
        {
          "output_type": "stream",
          "text": [
            "ensemble training labels shape:  (7291,)\n",
            "ensemble testing labels shape:  (2007,)\n",
            "ensemble training data shape:  (7291, 256)\n",
            "ensemble testing data shape:  (2007, 256)\n"
          ],
          "name": "stdout"
        }
      ]
    },
    {
      "cell_type": "code",
      "metadata": {
        "colab": {
          "base_uri": "https://localhost:8080/"
        },
        "id": "f-OY5SVQlY6a",
        "outputId": "5534f1d4-478a-4efd-c9ad-52bc844e4b3c"
      },
      "source": [
        "# Bagging\n",
        "bg = BaggingClassifier(DecisionTreeClassifier(),max_samples=0.5, max_features=1.0, n_estimators=20)\n",
        "bg.fit(ensemble_train_data, ensemble_train_labels)"
      ],
      "execution_count": null,
      "outputs": [
        {
          "output_type": "execute_result",
          "data": {
            "text/plain": [
              "BaggingClassifier(base_estimator=DecisionTreeClassifier(ccp_alpha=0.0,\n",
              "                                                        class_weight=None,\n",
              "                                                        criterion='gini',\n",
              "                                                        max_depth=None,\n",
              "                                                        max_features=None,\n",
              "                                                        max_leaf_nodes=None,\n",
              "                                                        min_impurity_decrease=0.0,\n",
              "                                                        min_impurity_split=None,\n",
              "                                                        min_samples_leaf=1,\n",
              "                                                        min_samples_split=2,\n",
              "                                                        min_weight_fraction_leaf=0.0,\n",
              "                                                        presort='deprecated',\n",
              "                                                        random_state=None,\n",
              "                                                        splitter='best'),\n",
              "                  bootstrap=True, bootstrap_features=False, max_features=1.0,\n",
              "                  max_samples=0.5, n_estimators=20, n_jobs=None,\n",
              "                  oob_score=False, random_state=None, verbose=0,\n",
              "                  warm_start=False)"
            ]
          },
          "metadata": {
            "tags": []
          },
          "execution_count": 51
        }
      ]
    },
    {
      "cell_type": "code",
      "metadata": {
        "colab": {
          "base_uri": "https://localhost:8080/"
        },
        "id": "qQuMvyw4nRDl",
        "outputId": "a72b6034-fd5d-4e74-8bc6-2eb775c49996"
      },
      "source": [
        "# validate on train set\n",
        "bg.score(ensemble_train_data,ensemble_train_labels)"
      ],
      "execution_count": null,
      "outputs": [
        {
          "output_type": "execute_result",
          "data": {
            "text/plain": [
              "0.9916335207790427"
            ]
          },
          "metadata": {
            "tags": []
          },
          "execution_count": 52
        }
      ]
    },
    {
      "cell_type": "code",
      "metadata": {
        "colab": {
          "base_uri": "https://localhost:8080/"
        },
        "id": "a3X0RRjOlt-a",
        "outputId": "dd1ddd21-6739-4a0a-f7ea-ea0ffa108b06"
      },
      "source": [
        "# validate on test set\n",
        "bg.score(ensemble_test_data,ensemble_test_labels)"
      ],
      "execution_count": null,
      "outputs": [
        {
          "output_type": "execute_result",
          "data": {
            "text/plain": [
              "0.8824115595416044"
            ]
          },
          "metadata": {
            "tags": []
          },
          "execution_count": 53
        }
      ]
    },
    {
      "cell_type": "markdown",
      "metadata": {
        "id": "jLP8sOqynwGC"
      },
      "source": [
        "#### Method 2: Dropout"
      ]
    },
    {
      "cell_type": "code",
      "metadata": {
        "id": "57rRoRieoYLZ"
      },
      "source": [
        "# best hyperparam values for Fully Connected Network\n",
        "epochs = 15\n",
        "lr = 0.01\n",
        "batch_size = 128\n",
        "momentum = 0.9\n",
        "initializer = 'HeUniform'"
      ],
      "execution_count": null,
      "outputs": []
    },
    {
      "cell_type": "code",
      "metadata": {
        "id": "9a5WtBZQs4Pt"
      },
      "source": [
        "# redefine fully connected network WITHOUT dropout \n",
        "# reduce number of neurons to reduce overfitting\n",
        "\n",
        "def define_fully_connected_model(lr_val, momentum_val, img_h, img_w, initializer):\n",
        "  model = Sequential()\n",
        "  model.add(InputLayer(input_shape=(img_h, img_w, 1)))\n",
        "  model.add(Flatten())\n",
        "  model.add(Dense(10, activation='relu', kernel_initializer=initializer))\n",
        "  model.add(Dense(32, activation='tanh', kernel_initializer=initializer))\n",
        "  model.add(Dense(10, activation='softmax'))\n",
        "  # compile model\n",
        "  opt = SGD(lr=lr_val, momentum=momentum_val)\n",
        "  model.compile(optimizer=opt, loss='categorical_crossentropy', metrics=['accuracy'])\n",
        "  return model"
      ],
      "execution_count": null,
      "outputs": []
    },
    {
      "cell_type": "code",
      "metadata": {
        "colab": {
          "base_uri": "https://localhost:8080/"
        },
        "id": "wWQT6c6nnzeD",
        "outputId": "b483f053-dc6f-40ce-99b0-c87d4d8889f7"
      },
      "source": [
        "# test fully connected network without dropout\n",
        "fc_model = define_fully_connected_model(lr, momentum, img_h, img_w, initializer)\n",
        "fc_model.fit(train_data, train_labels, batch_size=batch_size, epochs=epochs, validation_data=(test_data, test_labels))"
      ],
      "execution_count": null,
      "outputs": [
        {
          "output_type": "stream",
          "text": [
            "Epoch 1/15\n",
            "57/57 [==============================] - 1s 6ms/step - loss: 1.8592 - accuracy: 0.3310 - val_loss: 0.9589 - val_accuracy: 0.7050\n",
            "Epoch 2/15\n",
            "57/57 [==============================] - 0s 3ms/step - loss: 0.6954 - accuracy: 0.8053 - val_loss: 0.6158 - val_accuracy: 0.8196\n",
            "Epoch 3/15\n",
            "57/57 [==============================] - 0s 3ms/step - loss: 0.4032 - accuracy: 0.9005 - val_loss: 0.5165 - val_accuracy: 0.8450\n",
            "Epoch 4/15\n",
            "57/57 [==============================] - 0s 3ms/step - loss: 0.3289 - accuracy: 0.9169 - val_loss: 0.4739 - val_accuracy: 0.8585\n",
            "Epoch 5/15\n",
            "57/57 [==============================] - 0s 3ms/step - loss: 0.2647 - accuracy: 0.9342 - val_loss: 0.4496 - val_accuracy: 0.8690\n",
            "Epoch 6/15\n",
            "57/57 [==============================] - 0s 3ms/step - loss: 0.2437 - accuracy: 0.9365 - val_loss: 0.4350 - val_accuracy: 0.8799\n",
            "Epoch 7/15\n",
            "57/57 [==============================] - 0s 3ms/step - loss: 0.2211 - accuracy: 0.9416 - val_loss: 0.4251 - val_accuracy: 0.8834\n",
            "Epoch 8/15\n",
            "57/57 [==============================] - 0s 3ms/step - loss: 0.2062 - accuracy: 0.9453 - val_loss: 0.4196 - val_accuracy: 0.8834\n",
            "Epoch 9/15\n",
            "57/57 [==============================] - 0s 3ms/step - loss: 0.2024 - accuracy: 0.9472 - val_loss: 0.4167 - val_accuracy: 0.8869\n",
            "Epoch 10/15\n",
            "57/57 [==============================] - 0s 3ms/step - loss: 0.1762 - accuracy: 0.9535 - val_loss: 0.4034 - val_accuracy: 0.8909\n",
            "Epoch 11/15\n",
            "57/57 [==============================] - 0s 3ms/step - loss: 0.1707 - accuracy: 0.9549 - val_loss: 0.4019 - val_accuracy: 0.8919\n",
            "Epoch 12/15\n",
            "57/57 [==============================] - 0s 3ms/step - loss: 0.1663 - accuracy: 0.9573 - val_loss: 0.3930 - val_accuracy: 0.8954\n",
            "Epoch 13/15\n",
            "57/57 [==============================] - 0s 3ms/step - loss: 0.1522 - accuracy: 0.9572 - val_loss: 0.3963 - val_accuracy: 0.8929\n",
            "Epoch 14/15\n",
            "57/57 [==============================] - 0s 3ms/step - loss: 0.1549 - accuracy: 0.9580 - val_loss: 0.3898 - val_accuracy: 0.8969\n",
            "Epoch 15/15\n",
            "57/57 [==============================] - 0s 3ms/step - loss: 0.1396 - accuracy: 0.9648 - val_loss: 0.3904 - val_accuracy: 0.8954\n"
          ],
          "name": "stdout"
        },
        {
          "output_type": "execute_result",
          "data": {
            "text/plain": [
              "<tensorflow.python.keras.callbacks.History at 0x7f2d3a9bdb90>"
            ]
          },
          "metadata": {
            "tags": []
          },
          "execution_count": 56
        }
      ]
    },
    {
      "cell_type": "markdown",
      "metadata": {
        "id": "GKWvgjEOo3YJ"
      },
      "source": [
        "Add Dropout Layers to Fully Connected Network"
      ]
    },
    {
      "cell_type": "code",
      "metadata": {
        "id": "jM6xhEWEo0e4"
      },
      "source": [
        "# re-define fully connected network WITH dropout layer\n",
        "# Effective case with dropout rate = 0.5\n",
        "\n",
        "def define_fully_connected_model(lr_val, momentum_val, img_h, img_w, initializer):\n",
        "  model = Sequential()\n",
        "  model.add(InputLayer(input_shape=(img_h, img_w, 1)))\n",
        "  model.add(Flatten())\n",
        "  model.add(Dense(10, activation='relu', kernel_initializer=initializer))\n",
        "  model.add(Dropout(0.2)) ## added dropout layer ****\n",
        "  model.add(Dense(32, activation='tanh', kernel_initializer=initializer))\n",
        "  model.add(Dense(10, activation='softmax'))\n",
        "  # compile model\n",
        "  opt = SGD(lr=lr_val, momentum=momentum_val)\n",
        "  model.compile(optimizer=opt, loss='categorical_crossentropy', metrics=['accuracy'])\n",
        "  return model"
      ],
      "execution_count": null,
      "outputs": []
    },
    {
      "cell_type": "code",
      "metadata": {
        "colab": {
          "base_uri": "https://localhost:8080/"
        },
        "id": "iHqzJ3I6o0fN",
        "outputId": "cd80651e-4886-41dc-822d-94ae6c763f26"
      },
      "source": [
        "# test fully connected network WITH dropout\n",
        "# Effective case with dropout rate = 0.2\n",
        "fc_model = define_fully_connected_model(lr, momentum, img_h, img_w, initializer)\n",
        "fc_model.fit(train_data, train_labels, batch_size=batch_size, epochs=epochs, validation_data=(test_data, test_labels))"
      ],
      "execution_count": null,
      "outputs": [
        {
          "output_type": "stream",
          "text": [
            "Epoch 1/15\n",
            "57/57 [==============================] - 1s 5ms/step - loss: 2.1013 - accuracy: 0.2905 - val_loss: 1.0663 - val_accuracy: 0.6951\n",
            "Epoch 2/15\n",
            "57/57 [==============================] - 0s 3ms/step - loss: 1.1088 - accuracy: 0.6438 - val_loss: 0.7413 - val_accuracy: 0.8171\n",
            "Epoch 3/15\n",
            "57/57 [==============================] - 0s 3ms/step - loss: 0.8812 - accuracy: 0.7159 - val_loss: 0.6289 - val_accuracy: 0.8416\n",
            "Epoch 4/15\n",
            "57/57 [==============================] - 0s 3ms/step - loss: 0.7732 - accuracy: 0.7579 - val_loss: 0.5809 - val_accuracy: 0.8520\n",
            "Epoch 5/15\n",
            "57/57 [==============================] - 0s 3ms/step - loss: 0.7060 - accuracy: 0.7827 - val_loss: 0.5424 - val_accuracy: 0.8620\n",
            "Epoch 6/15\n",
            "57/57 [==============================] - 0s 3ms/step - loss: 0.6513 - accuracy: 0.7980 - val_loss: 0.5196 - val_accuracy: 0.8575\n",
            "Epoch 7/15\n",
            "57/57 [==============================] - 0s 3ms/step - loss: 0.6345 - accuracy: 0.7993 - val_loss: 0.5003 - val_accuracy: 0.8680\n",
            "Epoch 8/15\n",
            "57/57 [==============================] - 0s 3ms/step - loss: 0.5877 - accuracy: 0.8260 - val_loss: 0.4779 - val_accuracy: 0.8759\n",
            "Epoch 9/15\n",
            "57/57 [==============================] - 0s 3ms/step - loss: 0.5634 - accuracy: 0.8241 - val_loss: 0.4731 - val_accuracy: 0.8710\n",
            "Epoch 10/15\n",
            "57/57 [==============================] - 0s 3ms/step - loss: 0.5639 - accuracy: 0.8260 - val_loss: 0.4505 - val_accuracy: 0.8739\n",
            "Epoch 11/15\n",
            "57/57 [==============================] - 0s 3ms/step - loss: 0.5199 - accuracy: 0.8410 - val_loss: 0.4439 - val_accuracy: 0.8839\n",
            "Epoch 12/15\n",
            "57/57 [==============================] - 0s 3ms/step - loss: 0.5020 - accuracy: 0.8462 - val_loss: 0.4448 - val_accuracy: 0.8754\n",
            "Epoch 13/15\n",
            "57/57 [==============================] - 0s 3ms/step - loss: 0.4964 - accuracy: 0.8560 - val_loss: 0.4340 - val_accuracy: 0.8834\n",
            "Epoch 14/15\n",
            "57/57 [==============================] - 0s 3ms/step - loss: 0.4616 - accuracy: 0.8602 - val_loss: 0.4445 - val_accuracy: 0.8834\n",
            "Epoch 15/15\n",
            "57/57 [==============================] - 0s 3ms/step - loss: 0.4710 - accuracy: 0.8511 - val_loss: 0.4323 - val_accuracy: 0.8794\n"
          ],
          "name": "stdout"
        },
        {
          "output_type": "execute_result",
          "data": {
            "text/plain": [
              "<tensorflow.python.keras.callbacks.History at 0x7f2d3ae0f5d0>"
            ]
          },
          "metadata": {
            "tags": []
          },
          "execution_count": 58
        }
      ]
    },
    {
      "cell_type": "code",
      "metadata": {
        "id": "1XWxmV9upa_2"
      },
      "source": [
        "# define fully connected model WITH dropout layer\n",
        "# Ineffective case with dropout rate = 0.80 --> TOO HIGH DROPOUT RATE!\n",
        "\n",
        "def define_fully_connected_model(lr_val, momentum_val, img_h, img_w, initializer):\n",
        "  model = Sequential()\n",
        "  model.add(InputLayer(input_shape=(img_h, img_w, 1)))\n",
        "  model.add(Flatten())\n",
        "  model.add(Dense(10, activation='relu', kernel_initializer=initializer))\n",
        "  model.add(Dropout(0.80)) ## added dropout layer ****\n",
        "  model.add(Dense(32, activation='tanh', kernel_initializer=initializer))\n",
        "  model.add(Dense(10, activation='softmax'))\n",
        "  # compile model\n",
        "  opt = SGD(lr=lr_val, momentum=momentum_val)\n",
        "  model.compile(optimizer=opt, loss='categorical_crossentropy', metrics=['accuracy'])\n",
        "  return model"
      ],
      "execution_count": null,
      "outputs": []
    },
    {
      "cell_type": "code",
      "metadata": {
        "colab": {
          "base_uri": "https://localhost:8080/"
        },
        "id": "JHXTIQiWpa_5",
        "outputId": "71523a75-6029-4ba8-e33e-e39bdfbc6620"
      },
      "source": [
        "# test FC model WITH high dropout \n",
        "# Ineffective case with dropout rate = 0.80 --> TOO HIGH DROPOUT RATE!\n",
        "fc_model = define_fully_connected_model(lr, momentum, img_h, img_w, initializer)\n",
        "fc_model.fit(train_data, train_labels, batch_size=batch_size, epochs=epochs, validation_data=(test_data, test_labels))"
      ],
      "execution_count": null,
      "outputs": [
        {
          "output_type": "stream",
          "text": [
            "Epoch 1/15\n",
            "57/57 [==============================] - 1s 5ms/step - loss: 2.4474 - accuracy: 0.1552 - val_loss: 1.9412 - val_accuracy: 0.3523\n",
            "Epoch 2/15\n",
            "57/57 [==============================] - 0s 3ms/step - loss: 2.1401 - accuracy: 0.2118 - val_loss: 1.6900 - val_accuracy: 0.4006\n",
            "Epoch 3/15\n",
            "57/57 [==============================] - 0s 3ms/step - loss: 2.0628 - accuracy: 0.2378 - val_loss: 1.5499 - val_accuracy: 0.4405\n",
            "Epoch 4/15\n",
            "57/57 [==============================] - 0s 3ms/step - loss: 2.0164 - accuracy: 0.2578 - val_loss: 1.3953 - val_accuracy: 0.4813\n",
            "Epoch 5/15\n",
            "57/57 [==============================] - 0s 3ms/step - loss: 1.9856 - accuracy: 0.2610 - val_loss: 1.2803 - val_accuracy: 0.5177\n",
            "Epoch 6/15\n",
            "57/57 [==============================] - 0s 3ms/step - loss: 1.9436 - accuracy: 0.2701 - val_loss: 1.2072 - val_accuracy: 0.5635\n",
            "Epoch 7/15\n",
            "57/57 [==============================] - 0s 3ms/step - loss: 1.9087 - accuracy: 0.2770 - val_loss: 1.1755 - val_accuracy: 0.5346\n",
            "Epoch 8/15\n",
            "57/57 [==============================] - 0s 3ms/step - loss: 1.9132 - accuracy: 0.2736 - val_loss: 1.1537 - val_accuracy: 0.6124\n",
            "Epoch 9/15\n",
            "57/57 [==============================] - 0s 3ms/step - loss: 1.9129 - accuracy: 0.2732 - val_loss: 1.1462 - val_accuracy: 0.5635\n",
            "Epoch 10/15\n",
            "57/57 [==============================] - 0s 3ms/step - loss: 1.9039 - accuracy: 0.2646 - val_loss: 1.1045 - val_accuracy: 0.4534\n",
            "Epoch 11/15\n",
            "57/57 [==============================] - 0s 3ms/step - loss: 1.8736 - accuracy: 0.2918 - val_loss: 1.1309 - val_accuracy: 0.5859\n",
            "Epoch 12/15\n",
            "57/57 [==============================] - 0s 3ms/step - loss: 1.8807 - accuracy: 0.2949 - val_loss: 1.0540 - val_accuracy: 0.5650\n",
            "Epoch 13/15\n",
            "57/57 [==============================] - 0s 3ms/step - loss: 1.8656 - accuracy: 0.2983 - val_loss: 1.0891 - val_accuracy: 0.4938\n",
            "Epoch 14/15\n",
            "57/57 [==============================] - 0s 3ms/step - loss: 1.8804 - accuracy: 0.2975 - val_loss: 1.0759 - val_accuracy: 0.4958\n",
            "Epoch 15/15\n",
            "57/57 [==============================] - 0s 3ms/step - loss: 1.8749 - accuracy: 0.3017 - val_loss: 1.1060 - val_accuracy: 0.4753\n"
          ],
          "name": "stdout"
        },
        {
          "output_type": "execute_result",
          "data": {
            "text/plain": [
              "<tensorflow.python.keras.callbacks.History at 0x7f2d40a5af90>"
            ]
          },
          "metadata": {
            "tags": []
          },
          "execution_count": 60
        }
      ]
    }
  ]
}